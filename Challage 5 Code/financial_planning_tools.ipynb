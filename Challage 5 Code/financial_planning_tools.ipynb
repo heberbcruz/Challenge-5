{
 "cells": [
  {
   "cell_type": "markdown",
   "metadata": {},
   "source": [
    "# Financial Planning with APIs and Simulations\n",
    "\n",
    "In this Challenge, you’ll create two financial analysis tools by using a single Jupyter notebook:\n",
    "\n",
    "Part 1: A financial planner for emergencies. The members will be able to use this tool to visualize their current savings. The members can then determine if they have enough reserves for an emergency fund.\n",
    "\n",
    "Part 2: A financial planner for retirement. This tool will forecast the performance of their retirement portfolio in 30 years. To do this, the tool will make an Alpaca API call via the Alpaca SDK to get historical price data for use in Monte Carlo simulations.\n",
    "\n",
    "You’ll use the information from the Monte Carlo simulation to answer questions about the portfolio in your Jupyter notebook.\n",
    "\n"
   ]
  },
  {
   "cell_type": "code",
   "execution_count": 4,
   "metadata": {},
   "outputs": [],
   "source": [
    "# Import the required libraries and dependencies\n",
    "import os\n",
    "import requests\n",
    "import json\n",
    "import pandas as pd\n",
    "from dotenv import load_dotenv\n",
    "import alpaca_trade_api as tradeapi\n",
    "from MCForecastTools import MCSimulation\n",
    "\n",
    "%matplotlib inline"
   ]
  },
  {
   "cell_type": "code",
   "execution_count": 5,
   "metadata": {},
   "outputs": [
    {
     "data": {
      "text/plain": [
       "True"
      ]
     },
     "execution_count": 5,
     "metadata": {},
     "output_type": "execute_result"
    }
   ],
   "source": [
    "# Load the environment variables from the .env file\n",
    "#by calling the load_dotenv function\n",
    "load_dotenv()"
   ]
  },
  {
   "cell_type": "markdown",
   "metadata": {},
   "source": [
    "## Part 1: Create a Financial Planner for Emergencies"
   ]
  },
  {
   "cell_type": "markdown",
   "metadata": {},
   "source": [
    "### Evaluate the Cryptocurrency Wallet by Using the Requests Library\n",
    "\n",
    "In this section, you’ll determine the current value of a member’s cryptocurrency wallet. You’ll collect the current prices for the Bitcoin and Ethereum cryptocurrencies by using the Python Requests library. For the prototype, you’ll assume that the member holds the 1.2 Bitcoins (BTC) and 5.3 Ethereum coins (ETH). To do all this, complete the following steps:\n",
    "\n",
    "1. Create a variable named `monthly_income`, and set its value to `12000`.\n",
    "\n",
    "2. Use the Requests library to get the current price (in US dollars) of Bitcoin (BTC) and Ethereum (ETH) by using the API endpoints that the starter code supplies.\n",
    "\n",
    "3. Navigate the JSON response object to access the current price of each coin, and store each in a variable.\n",
    "\n",
    "    > **Hint** Note the specific identifier for each cryptocurrency in the API JSON response. The Bitcoin identifier is `1`, and the Ethereum identifier is `1027`.\n",
    "\n",
    "4. Calculate the value, in US dollars, of the current amount of each cryptocurrency and of the entire cryptocurrency wallet.\n",
    "\n"
   ]
  },
  {
   "cell_type": "code",
   "execution_count": 6,
   "metadata": {},
   "outputs": [],
   "source": [
    "# The current number of coins for each cryptocurrency asset held in the portfolio.\n",
    "btc_coins = 1.2\n",
    "eth_coins = 5.3"
   ]
  },
  {
   "cell_type": "markdown",
   "metadata": {},
   "source": [
    "#### Step 1: Create a variable named `monthly_income`, and set its value to `12000`."
   ]
  },
  {
   "cell_type": "code",
   "execution_count": 7,
   "metadata": {},
   "outputs": [],
   "source": [
    "# The monthly amount for the member's household income\n",
    "monthly_income = 12000\n"
   ]
  },
  {
   "cell_type": "markdown",
   "metadata": {},
   "source": [
    "#### Review the endpoint URLs for the API calls to Free Crypto API in order to get the current pricing information for both BTC and ETH."
   ]
  },
  {
   "cell_type": "code",
   "execution_count": 8,
   "metadata": {},
   "outputs": [],
   "source": [
    "# The Free Crypto API Call endpoint URLs for the held cryptocurrency assets\n",
    "btc_url = \"https://api.alternative.me/v2/ticker/Bitcoin/?convert=USD\"\n",
    "eth_url = \"https://api.alternative.me/v2/ticker/Ethereum/?convert=USD\""
   ]
  },
  {
   "cell_type": "markdown",
   "metadata": {},
   "source": [
    "#### Step 2. Use the Requests library to get the current price (in US dollars) of Bitcoin (BTC) and Ethereum (ETH) by using the API endpoints that the starter code supplied."
   ]
  },
  {
   "cell_type": "code",
   "execution_count": 12,
   "metadata": {},
   "outputs": [
    {
     "name": "stdout",
     "output_type": "stream",
     "text": [
      "{\n",
      "    \"data\": {\n",
      "        \"1\": {\n",
      "            \"circulating_supply\": 19213818,\n",
      "            \"id\": 1,\n",
      "            \"last_updated\": 1669083896,\n",
      "            \"max_supply\": 21000000,\n",
      "            \"name\": \"Bitcoin\",\n",
      "            \"quotes\": {\n",
      "                \"USD\": {\n",
      "                    \"market_cap\": 304030511048,\n",
      "                    \"percent_change_1h\": -0.388803123551903,\n",
      "                    \"percent_change_24h\": -2.05470487133685,\n",
      "                    \"percent_change_7d\": -4.92701671063961,\n",
      "                    \"percentage_change_1h\": -0.388803123551903,\n",
      "                    \"percentage_change_24h\": -2.05470487133685,\n",
      "                    \"percentage_change_7d\": -4.92701671063961,\n",
      "                    \"price\": 15825.69,\n",
      "                    \"volume_24h\": 30238330449\n",
      "                }\n",
      "            },\n",
      "            \"rank\": 1,\n",
      "            \"symbol\": \"BTC\",\n",
      "            \"total_supply\": 19213818,\n",
      "            \"website_slug\": \"bitcoin\"\n",
      "        }\n",
      "    },\n",
      "    \"metadata\": {\n",
      "        \"error\": null,\n",
      "        \"num_cryptocurrencies\": 3119,\n",
      "        \"timestamp\": 1669083896\n",
      "    }\n",
      "}\n"
     ]
    }
   ],
   "source": [
    "# Using the Python requests library, make an API call to access the current price of BTC\n",
    "btc_response = requests.get(btc_url).json()\n",
    "\n",
    "# Use the json.dumps function to review the response data from the API call\n",
    "# Use the indent and sort_keys parameters to make the response object readable\n",
    "print(json.dumps(btc_response, indent=4, sort_keys=True))\n"
   ]
  },
  {
   "cell_type": "code",
   "execution_count": 13,
   "metadata": {},
   "outputs": [
    {
     "name": "stdout",
     "output_type": "stream",
     "text": [
      "{\n",
      "    \"data\": {\n",
      "        \"1027\": {\n",
      "            \"circulating_supply\": 120515834,\n",
      "            \"id\": 1027,\n",
      "            \"last_updated\": 1669083896,\n",
      "            \"max_supply\": 120515834,\n",
      "            \"name\": \"Ethereum\",\n",
      "            \"quotes\": {\n",
      "                \"USD\": {\n",
      "                    \"market_cap\": 132760081953,\n",
      "                    \"percent_change_1h\": -0.561859747989129,\n",
      "                    \"percent_change_24h\": -2.33352137822578,\n",
      "                    \"percent_change_7d\": -11.2971676649282,\n",
      "                    \"percentage_change_1h\": -0.561859747989129,\n",
      "                    \"percentage_change_24h\": -2.33352137822578,\n",
      "                    \"percentage_change_7d\": -11.2971676649282,\n",
      "                    \"price\": 1101.69,\n",
      "                    \"volume_24h\": 10190883646\n",
      "                }\n",
      "            },\n",
      "            \"rank\": 2,\n",
      "            \"symbol\": \"ETH\",\n",
      "            \"total_supply\": 120515834,\n",
      "            \"website_slug\": \"ethereum\"\n",
      "        }\n",
      "    },\n",
      "    \"metadata\": {\n",
      "        \"error\": null,\n",
      "        \"num_cryptocurrencies\": 3119,\n",
      "        \"timestamp\": 1669083896\n",
      "    }\n",
      "}\n"
     ]
    }
   ],
   "source": [
    "# Using the Python requests library, make an API call to access the current price ETH\n",
    "eth_response = requests.get(eth_url).json()\n",
    "\n",
    "# Use the json.dumps function to review the response data from the API call\n",
    "# Use the indent and sort_keys parameters to make the response object readable\n",
    "print(json.dumps(eth_response, indent=4, sort_keys=True))\n"
   ]
  },
  {
   "cell_type": "markdown",
   "metadata": {},
   "source": [
    "#### Step 3: Navigate the JSON response object to access the current price of each coin, and store each in a variable."
   ]
  },
  {
   "cell_type": "code",
   "execution_count": 14,
   "metadata": {},
   "outputs": [
    {
     "name": "stdout",
     "output_type": "stream",
     "text": [
      "The price for BTC is $15825.69\n"
     ]
    }
   ],
   "source": [
    "# Navigate the BTC response object to access the current price of BTC\n",
    "btc_price = btc_response['data']['1']['quotes']['USD']['price']\n",
    "\n",
    "# Print the current price of BTC\n",
    "print(f\"The price for BTC is ${btc_price}\")\n"
   ]
  },
  {
   "cell_type": "code",
   "execution_count": 15,
   "metadata": {},
   "outputs": [
    {
     "name": "stdout",
     "output_type": "stream",
     "text": [
      "The price for BTC is $1101.69\n"
     ]
    }
   ],
   "source": [
    "# Navigate the BTC response object to access the current price of ETH\n",
    "eth_price = eth_response['data']['1027']['quotes']['USD']['price']\n",
    "\n",
    "# Print the current price of ETH\n",
    "print(f\"The price for BTC is ${eth_price}\")\n"
   ]
  },
  {
   "cell_type": "markdown",
   "metadata": {},
   "source": [
    "### Step 4: Calculate the value, in US dollars, of the current amount of each cryptocurrency and of the entire cryptocurrency wallet."
   ]
  },
  {
   "cell_type": "code",
   "execution_count": 53,
   "metadata": {},
   "outputs": [
    {
     "name": "stdout",
     "output_type": "stream",
     "text": [
      "The current value of holding for BTC is $18990.83\n"
     ]
    }
   ],
   "source": [
    "# Compute the current value of the BTC holding \n",
    "btc_value = btc_coins * btc_price\n",
    "\n",
    "# Print current value of your holding in BTC\n",
    "print(f\"The current value of holding for BTC is ${btc_value:0.2f}\")\n"
   ]
  },
  {
   "cell_type": "code",
   "execution_count": 54,
   "metadata": {},
   "outputs": [
    {
     "name": "stdout",
     "output_type": "stream",
     "text": [
      "The current value of holding for EHT is $5838.96\n"
     ]
    }
   ],
   "source": [
    "# Compute the current value of the ETH holding \n",
    "eth_value = eth_coins * eth_price\n",
    "\n",
    "# Print current value of your holding in ETH\n",
    "print(f\"The current value of holding for EHT is ${eth_value:0.2f}\")\n"
   ]
  },
  {
   "cell_type": "code",
   "execution_count": 55,
   "metadata": {},
   "outputs": [
    {
     "name": "stdout",
     "output_type": "stream",
     "text": [
      "The current cryptocurrency wallent balance is $24829.79\n"
     ]
    }
   ],
   "source": [
    "# Compute the total value of the cryptocurrency wallet\n",
    "# Add the value of the BTC holding to the value of the ETH holding\n",
    "total_crypto_wallet = btc_value + eth_value\n",
    "\n",
    "# Print current cryptocurrency wallet balance\n",
    "print(f\"The current cryptocurrency wallent balance is ${total_crypto_wallet:0.2f}\")\n"
   ]
  },
  {
   "cell_type": "markdown",
   "metadata": {},
   "source": [
    "### Evaluate the Stock and Bond Holdings by Using the Alpaca SDK\n",
    "\n",
    "In this section, you’ll determine the current value of a member’s stock and bond holdings. You’ll make an API call to Alpaca via the Alpaca SDK to get the current closing prices of the SPDR S&P 500 ETF Trust (ticker: SPY) and of the iShares Core US Aggregate Bond ETF (ticker: AGG). For the prototype, assume that the member holds 110 shares of SPY, which represents the stock portion of their portfolio, and 200 shares of AGG, which represents the bond portion. To do all this, complete the following steps:\n",
    "\n",
    "1. In the `Starter_Code` folder, create an environment file (`.env`) to store the values of your Alpaca API key and Alpaca secret key.\n",
    "\n",
    "2. Set the variables for the Alpaca API and secret keys. Using the Alpaca SDK, create the Alpaca `tradeapi.REST` object. In this object, include the parameters for the Alpaca API key, the secret key, and the version number.\n",
    "\n",
    "3. Set the following parameters for the Alpaca API call:\n",
    "\n",
    "    - `tickers`: Use the tickers for the member’s stock and bond holdings.\n",
    "\n",
    "    - `timeframe`: Use a time frame of one day.\n",
    "\n",
    "    - `start_date` and `end_date`: Use the same date for these parameters, and format them with the date of the previous weekday (or `2020-08-07`). This is because you want the one closing price for the most-recent trading day.\n",
    "\n",
    "4. Get the current closing prices for `SPY` and `AGG` by using the Alpaca `get_bars` function. Format the response as a Pandas DataFrame by including the `df` property at the end of the `get_bars` function.\n",
    "\n",
    "5. Navigating the Alpaca response DataFrame, select the `SPY` and `AGG` closing prices, and store them as variables.\n",
    "\n",
    "6. Calculate the value, in US dollars, of the current amount of shares in each of the stock and bond portions of the portfolio, and print the results.\n"
   ]
  },
  {
   "cell_type": "markdown",
   "metadata": {},
   "source": [
    "#### Review the total number of shares held in both (SPY) and (AGG)."
   ]
  },
  {
   "cell_type": "code",
   "execution_count": 36,
   "metadata": {},
   "outputs": [],
   "source": [
    "# Current amount of shares held in both the stock (SPY) and bond (AGG) portion of the portfolio.\n",
    "spy_shares = 110\n",
    "agg_shares = 200\n"
   ]
  },
  {
   "cell_type": "markdown",
   "metadata": {},
   "source": [
    "#### Step 1: In the `Starter_Code` folder, create an environment file (`.env`) to store the values of your Alpaca API key and Alpaca secret key."
   ]
  },
  {
   "cell_type": "markdown",
   "metadata": {},
   "source": [
    "#### Step 2: Set the variables for the Alpaca API and secret keys. Using the Alpaca SDK, create the Alpaca `tradeapi.REST` object. In this object, include the parameters for the Alpaca API key, the secret key, and the version number."
   ]
  },
  {
   "cell_type": "code",
   "execution_count": 37,
   "metadata": {},
   "outputs": [],
   "source": [
    "# Set the variables for the Alpaca API and secret keys\n",
    "alpaca_api_key = os.getenv(\"ALPACA_API_KEY\")\n",
    "alpaca_secret_key = os.getenv(\"ALPACA_SECRET_KEY\")\n",
    "\n",
    "# Create the Alpaca tradeapi.REST object\n",
    "alpaca = tradeapi.REST(\n",
    "    alpaca_api_key,\n",
    "    alpaca_secret_key,\n",
    "    api_version=\"v2\")\n"
   ]
  },
  {
   "cell_type": "markdown",
   "metadata": {},
   "source": [
    "#### Step 3: Set the following parameters for the Alpaca API call:\n",
    "\n",
    "- `tickers`: Use the tickers for the member’s stock and bond holdings.\n",
    "\n",
    "- `timeframe`: Use a time frame of one day.\n",
    "\n",
    "- `start_date` and `end_date`: Use the same date for these parameters, and format them with the date of the previous weekday (or `2020-08-07`). This is because you want the one closing price for the most-recent trading day.\n"
   ]
  },
  {
   "cell_type": "code",
   "execution_count": 38,
   "metadata": {},
   "outputs": [],
   "source": [
    "# Set the tickers for both the bond and stock portion of the portfolio\n",
    "tickers = [\"SPY\", \"AGG\"]\n",
    "\n",
    "# Set timeframe to 1Day\n",
    "timeframe = \"1Day\"\n",
    "\n",
    "# Format current date as ISO format\n",
    "# Set both the start and end date at the date of your prior weekday \n",
    "# This will give you the closing price of the previous trading day\n",
    "# Alternatively you can use a start and end date of 2020-08-07\n",
    "start_date = pd.Timestamp(\"2022-11-18\", tz=\"America/New_York\").isoformat()\n",
    "end_date = pd.Timestamp(\"2022-11-18\", tz=\"America/New_York\").isoformat()\n"
   ]
  },
  {
   "cell_type": "markdown",
   "metadata": {},
   "source": [
    "#### Step 4: Get the current closing prices for `SPY` and `AGG` by using the Alpaca `get_bars` function. Format the response as a Pandas DataFrame by including the `df` property at the end of the `get_bars` function."
   ]
  },
  {
   "cell_type": "code",
   "execution_count": 39,
   "metadata": {},
   "outputs": [
    {
     "data": {
      "text/html": [
       "<div>\n",
       "<style scoped>\n",
       "    .dataframe tbody tr th:only-of-type {\n",
       "        vertical-align: middle;\n",
       "    }\n",
       "\n",
       "    .dataframe tbody tr th {\n",
       "        vertical-align: top;\n",
       "    }\n",
       "\n",
       "    .dataframe thead tr th {\n",
       "        text-align: left;\n",
       "    }\n",
       "\n",
       "    .dataframe thead tr:last-of-type th {\n",
       "        text-align: right;\n",
       "    }\n",
       "</style>\n",
       "<table border=\"1\" class=\"dataframe\">\n",
       "  <thead>\n",
       "    <tr>\n",
       "      <th></th>\n",
       "      <th colspan=\"7\" halign=\"left\">SPY</th>\n",
       "      <th colspan=\"7\" halign=\"left\">AGG</th>\n",
       "    </tr>\n",
       "    <tr>\n",
       "      <th></th>\n",
       "      <th>open</th>\n",
       "      <th>high</th>\n",
       "      <th>low</th>\n",
       "      <th>close</th>\n",
       "      <th>volume</th>\n",
       "      <th>trade_count</th>\n",
       "      <th>vwap</th>\n",
       "      <th>open</th>\n",
       "      <th>high</th>\n",
       "      <th>low</th>\n",
       "      <th>close</th>\n",
       "      <th>volume</th>\n",
       "      <th>trade_count</th>\n",
       "      <th>vwap</th>\n",
       "    </tr>\n",
       "    <tr>\n",
       "      <th>timestamp</th>\n",
       "      <th></th>\n",
       "      <th></th>\n",
       "      <th></th>\n",
       "      <th></th>\n",
       "      <th></th>\n",
       "      <th></th>\n",
       "      <th></th>\n",
       "      <th></th>\n",
       "      <th></th>\n",
       "      <th></th>\n",
       "      <th></th>\n",
       "      <th></th>\n",
       "      <th></th>\n",
       "      <th></th>\n",
       "    </tr>\n",
       "  </thead>\n",
       "  <tbody>\n",
       "    <tr>\n",
       "      <th>2022-11-18 05:00:00+00:00</th>\n",
       "      <td>397.74</td>\n",
       "      <td>397.81</td>\n",
       "      <td>393.04</td>\n",
       "      <td>396.03</td>\n",
       "      <td>92449201</td>\n",
       "      <td>522023</td>\n",
       "      <td>395.406321</td>\n",
       "      <td>97.22</td>\n",
       "      <td>97.325</td>\n",
       "      <td>96.91</td>\n",
       "      <td>97.0</td>\n",
       "      <td>4710384</td>\n",
       "      <td>17080</td>\n",
       "      <td>97.045155</td>\n",
       "    </tr>\n",
       "  </tbody>\n",
       "</table>\n",
       "</div>"
      ],
      "text/plain": [
       "                              SPY                                    \\\n",
       "                             open    high     low   close    volume   \n",
       "timestamp                                                             \n",
       "2022-11-18 05:00:00+00:00  397.74  397.81  393.04  396.03  92449201   \n",
       "\n",
       "                                                     AGG                       \\\n",
       "                          trade_count        vwap   open    high    low close   \n",
       "timestamp                                                                       \n",
       "2022-11-18 05:00:00+00:00      522023  395.406321  97.22  97.325  96.91  97.0   \n",
       "\n",
       "                                                           \n",
       "                            volume trade_count       vwap  \n",
       "timestamp                                                  \n",
       "2022-11-18 05:00:00+00:00  4710384       17080  97.045155  "
      ]
     },
     "execution_count": 39,
     "metadata": {},
     "output_type": "execute_result"
    }
   ],
   "source": [
    "# Use the Alpaca get_bars function to get current closing prices the portfolio\n",
    "# Be sure to set the `df` property after the function to format the response object as a DataFrame\n",
    "df_portfolio = alpaca.get_bars(\n",
    "    tickers,\n",
    "    timeframe,\n",
    "    start = start_date,\n",
    "    end = end_date,\n",
    ").df\n",
    "\n",
    "# Reorganize the DataFrame\n",
    "# Separate ticker data\n",
    "SPY = df_portfolio[df_portfolio['symbol']=='SPY'].drop('symbol', axis=1)\n",
    "AGG = df_portfolio[df_portfolio['symbol']=='AGG'].drop('symbol', axis=1)\n",
    "\n",
    "# Concatenate the ticker DataFrames\n",
    "df_portfolio = pd.concat([SPY,AGG],axis=1, keys=['SPY','AGG'])\n",
    "\n",
    "# Review the first 5 rows of the Alpaca DataFrame\n",
    "df_portfolio.head()\n"
   ]
  },
  {
   "cell_type": "markdown",
   "metadata": {},
   "source": [
    "#### Step 5: Navigating the Alpaca response DataFrame, select the `SPY` and `AGG` closing prices, and store them as variables."
   ]
  },
  {
   "cell_type": "code",
   "execution_count": 44,
   "metadata": {},
   "outputs": [
    {
     "data": {
      "text/plain": [
       "97.0"
      ]
     },
     "execution_count": 44,
     "metadata": {},
     "output_type": "execute_result"
    }
   ],
   "source": [
    "# Access the closing price for AGG from the Alpaca DataFrame\n",
    "# Converting the value to a floating point number\n",
    "agg_close_price = float(df_portfolio[\"AGG\"][\"close\"])\n",
    "\n",
    "# Print the AGG closing price\n",
    "agg_close_price\n"
   ]
  },
  {
   "cell_type": "code",
   "execution_count": 45,
   "metadata": {},
   "outputs": [
    {
     "data": {
      "text/plain": [
       "396.03"
      ]
     },
     "execution_count": 45,
     "metadata": {},
     "output_type": "execute_result"
    }
   ],
   "source": [
    "# Access the closing price for SPY from the Alpaca DataFrame\n",
    "# Converting the value to a floating point number\n",
    "spy_close_price = float(df_portfolio[\"SPY\"][\"close\"])\n",
    "\n",
    "# Print the SPY closing price\n",
    "spy_close_price\n"
   ]
  },
  {
   "cell_type": "markdown",
   "metadata": {},
   "source": [
    "#### Step 6: Calculate the value, in US dollars, of the current amount of shares in each of the stock and bond portions of the portfolio, and print the results."
   ]
  },
  {
   "cell_type": "code",
   "execution_count": 56,
   "metadata": {},
   "outputs": [
    {
     "name": "stdout",
     "output_type": "stream",
     "text": [
      "The current value of the bond porfolio is $19400.00\n"
     ]
    }
   ],
   "source": [
    "# Calculate the current value of the bond portion of the portfolio\n",
    "agg_value = agg_close_price * agg_shares\n",
    "\n",
    "# Print the current value of the bond portfolio\n",
    "print(f\"The current value of the bond porfolio is ${agg_value:0.2f}\")\n"
   ]
  },
  {
   "cell_type": "code",
   "execution_count": 57,
   "metadata": {},
   "outputs": [
    {
     "name": "stdout",
     "output_type": "stream",
     "text": [
      "The current value of the stock porfolio is $43563.30\n"
     ]
    }
   ],
   "source": [
    "# Calculate the current value of the stock portion of the portfolio\n",
    "spy_value = spy_close_price * spy_shares\n",
    "\n",
    "# Print the current value of the stock portfolio\n",
    "print(f\"The current value of the stock porfolio is ${spy_value:0.2f}\")\n"
   ]
  },
  {
   "cell_type": "code",
   "execution_count": 59,
   "metadata": {},
   "outputs": [
    {
     "name": "stdout",
     "output_type": "stream",
     "text": [
      "The current value of the stock and bond porfolio is $62963.30\n"
     ]
    }
   ],
   "source": [
    "# Calculate the total value of the stock and bond portion of the portfolio\n",
    "total_stocks_bonds = agg_value + spy_value\n",
    "\n",
    "# Print the current balance of the stock and bond portion of the portfolio\n",
    "print(f\"The current value of the stock and bond porfolio is ${total_stocks_bonds:0.2f}\")\n"
   ]
  },
  {
   "cell_type": "code",
   "execution_count": 60,
   "metadata": {},
   "outputs": [
    {
     "name": "stdout",
     "output_type": "stream",
     "text": [
      "The current ballance of the cryptocurrency wallet is $87793.08\n"
     ]
    }
   ],
   "source": [
    "# Calculate the total value of the member's entire savings portfolio\n",
    "# Add the value of the cryptocurrency wallet to the value of the total stocks and bonds\n",
    "total_portfolio = total_crypto_wallet + total_stocks_bonds\n",
    "\n",
    "# Print current cryptocurrency wallet balance\n",
    "print(f\"The current ballance of the cryptocurrency wallet is ${total_portfolio:0.2f}\")\n"
   ]
  },
  {
   "cell_type": "markdown",
   "metadata": {},
   "source": [
    "### Evaluate the Emergency Fund\n",
    "\n",
    "In this section, you’ll use the valuations for the cryptocurrency wallet and for the stock and bond portions of the portfolio to determine if the credit union member has enough savings to build an emergency fund into their financial plan. To do this, complete the following steps:\n",
    "\n",
    "1. Create a Python list named `savings_data` that has two elements. The first element contains the total value of the cryptocurrency wallet. The second element contains the total value of the stock and bond portions of the portfolio.\n",
    "\n",
    "2. Use the `savings_data` list to create a Pandas DataFrame named `savings_df`, and then display this DataFrame. The function to create the DataFrame should take the following three parameters:\n",
    "\n",
    "    - `savings_data`: Use the list that you just created.\n",
    "\n",
    "    - `columns`: Set this parameter equal to a Python list with a single value called `amount`.\n",
    "\n",
    "    - `index`: Set this parameter equal to a Python list with the values of `crypto` and `stock/bond`.\n",
    "\n",
    "3. Use the `savings_df` DataFrame to plot a pie chart that visualizes the composition of the member’s portfolio. The y-axis of the pie chart uses `amount`. Be sure to add a title.\n",
    "\n",
    "4. Using Python, determine if the current portfolio has enough to create an emergency fund as part of the member’s financial plan. Ideally, an emergency fund should equal to three times the member’s monthly income. To do this, implement the following steps:\n",
    "\n",
    "    1. Create a variable named `emergency_fund_value`, and set it equal to three times the value of the member’s `monthly_income` of $12000. (You set this earlier in Part 1).\n",
    "\n",
    "    2. Create a series of three if statements to determine if the member’s total portfolio is large enough to fund the emergency portfolio:\n",
    "\n",
    "        1. If the total portfolio value is greater than the emergency fund value, display a message congratulating the member for having enough money in this fund.\n",
    "\n",
    "        2. Else if the total portfolio value is equal to the emergency fund value, display a message congratulating the member on reaching this important financial goal.\n",
    "\n",
    "        3. Else the total portfolio is less than the emergency fund value, so display a message showing how many dollars away the member is from reaching the goal. (Subtract the total portfolio value from the emergency fund value.)\n"
   ]
  },
  {
   "cell_type": "markdown",
   "metadata": {},
   "source": [
    "#### Step 1: Create a Python list named `savings_data` that has two elements. The first element contains the total value of the cryptocurrency wallet. The second element contains the total value of the stock and bond portions of the portfolio."
   ]
  },
  {
   "cell_type": "code",
   "execution_count": 70,
   "metadata": {},
   "outputs": [
    {
     "data": {
      "text/plain": [
       "['total_crypto_wallet', 'total_stocks_bonds']"
      ]
     },
     "execution_count": 70,
     "metadata": {},
     "output_type": "execute_result"
    }
   ],
   "source": [
    "# Consolidate financial assets data into a Python list\n",
    "savings_data = ['total_crypto_wallet', 'total_stocks_bonds']\n",
    "\n",
    "# Review the Python list savings_data\n",
    "savings_data\n",
    "    "
   ]
  },
  {
   "cell_type": "markdown",
   "metadata": {},
   "source": [
    "#### Step 2: Use the `savings_data` list to create a Pandas DataFrame named `savings_df`, and then display this DataFrame. The function to create the DataFrame should take the following three parameters:\n",
    "\n",
    "- `savings_data`: Use the list that you just created.\n",
    "\n",
    "- `columns`: Set this parameter equal to a Python list with a single value called `amount`.\n",
    "\n",
    "- `index`: Set this parameter equal to a Python list with the values of `crypto` and `stock/bond`.\n"
   ]
  },
  {
   "cell_type": "code",
   "execution_count": 72,
   "metadata": {},
   "outputs": [
    {
     "data": {
      "text/html": [
       "<div>\n",
       "<style scoped>\n",
       "    .dataframe tbody tr th:only-of-type {\n",
       "        vertical-align: middle;\n",
       "    }\n",
       "\n",
       "    .dataframe tbody tr th {\n",
       "        vertical-align: top;\n",
       "    }\n",
       "\n",
       "    .dataframe thead th {\n",
       "        text-align: right;\n",
       "    }\n",
       "</style>\n",
       "<table border=\"1\" class=\"dataframe\">\n",
       "  <thead>\n",
       "    <tr style=\"text-align: right;\">\n",
       "      <th></th>\n",
       "      <th>amount</th>\n",
       "    </tr>\n",
       "  </thead>\n",
       "  <tbody>\n",
       "    <tr>\n",
       "      <th>crypto</th>\n",
       "      <td>24829.785</td>\n",
       "    </tr>\n",
       "    <tr>\n",
       "      <th>stock/bond</th>\n",
       "      <td>62963.300</td>\n",
       "    </tr>\n",
       "  </tbody>\n",
       "</table>\n",
       "</div>"
      ],
      "text/plain": [
       "               amount\n",
       "crypto      24829.785\n",
       "stock/bond  62963.300"
      ]
     },
     "execution_count": 72,
     "metadata": {},
     "output_type": "execute_result"
    }
   ],
   "source": [
    "# Create a Pandas DataFrame called savings_df \n",
    "savings_df = pd.DataFrame(\n",
    "    {'amount':[total_crypto_wallet, total_stocks_bonds]},\n",
    "    index =['crypto', 'stock/bond']\n",
    ")\n",
    "\n",
    "# Display the savings_df DataFrame\n",
    "savings_df\n"
   ]
  },
  {
   "cell_type": "markdown",
   "metadata": {},
   "source": [
    "#### Step 3: Use the `savings_df` DataFrame to plot a pie chart that visualizes the composition of the member’s portfolio. The y-axis of the pie chart uses `amount`. Be sure to add a title."
   ]
  },
  {
   "cell_type": "code",
   "execution_count": 73,
   "metadata": {},
   "outputs": [
    {
     "data": {
      "text/plain": [
       "<AxesSubplot:title={'center':'Member Portfolio'}, ylabel='amount'>"
      ]
     },
     "execution_count": 73,
     "metadata": {},
     "output_type": "execute_result"
    },
    {
     "data": {
      "image/png": "[encoded data removed]",
      "text/plain": [
       "<Figure size 432x288 with 1 Axes>"
      ]
     },
     "metadata": {},
     "output_type": "display_data"
    }
   ],
   "source": [
    "# Plot the total value of the member's portfolio (crypto and stock/bond) in a pie chart\n",
    "savings_df.plot.pie(y='amount', title='Member Portfolio')\n"
   ]
  },
  {
   "cell_type": "markdown",
   "metadata": {},
   "source": [
    "#### Step 4: Using Python, determine if the current portfolio has enough to create an emergency fund as part of the member’s financial plan. Ideally, an emergency fund should equal to three times the member’s monthly income. To do this, implement the following steps:\n",
    "\n",
    "Step 1. Create a variable named `emergency_fund_value`, and set it equal to three times the value of the member’s `monthly_income` of 12000. (You set this earlier in Part 1).\n",
    "\n",
    "Step 2. Create a series of three if statements to determine if the member’s total portfolio is large enough to fund the emergency portfolio:\n",
    "\n",
    "* If the total portfolio value is greater than the emergency fund value, display a message congratulating the member for having enough money in this fund.\n",
    "\n",
    "* Else if the total portfolio value is equal to the emergency fund value, display a message congratulating the member on reaching this important financial goal.\n",
    "\n",
    "* Else the total portfolio is less than the emergency fund value, so display a message showing how many dollars away the member is from reaching the goal. (Subtract the total portfolio value from the emergency fund value.)\n"
   ]
  },
  {
   "cell_type": "markdown",
   "metadata": {},
   "source": [
    "##### Step 4-1: Create a variable named `emergency_fund_value`, and set it equal to three times the value of the member’s `monthly_income` of 12000. (You set this earlier in Part 1)."
   ]
  },
  {
   "cell_type": "code",
   "execution_count": 75,
   "metadata": {},
   "outputs": [],
   "source": [
    "# Create a variable named emergency_fund_value\n",
    "emergency_fund_value = monthly_income * 3\n"
   ]
  },
  {
   "cell_type": "markdown",
   "metadata": {},
   "source": [
    "##### Step 4-2: Create a series of three if statements to determine if the member’s total portfolio is large enough to fund the emergency portfolio:\n",
    "\n",
    "* If the total portfolio value is greater than the emergency fund value, display a message congratulating the member for having enough money in this fund.\n",
    "\n",
    "* Else if the total portfolio value is equal to the emergency fund value, display a message congratulating the member on reaching this important financial goal.\n",
    "\n",
    "* Else the total portfolio is less than the emergency fund value, so display a message showing how many dollars away the member is from reaching the goal. (Subtract the total portfolio value from the emergency fund value.)"
   ]
  },
  {
   "cell_type": "code",
   "execution_count": 97,
   "metadata": {},
   "outputs": [
    {
     "name": "stdout",
     "output_type": "stream",
     "text": [
      "Congratulations! You have enough money in this fund.\n"
     ]
    }
   ],
   "source": [
    "# Evaluate the possibility of creating an emergency fund with 3 conditions:\n",
    "if total_portfolio > emergency_fund_value:\n",
    "    print(f\"Congratulations! You have enough money in this fund.\")\n",
    "elif total_portfolio == emergency_fund_value:\n",
    "    print(f\"Congratulations! You have reached the important financial goal.\")\n",
    "else:\n",
    "    print(f\"You are ${emergency_fund_value - total_portfolio:0.2f}\")\n"
   ]
  },
  {
   "cell_type": "markdown",
   "metadata": {},
   "source": [
    "## Part 2: Create a Financial Planner for Retirement"
   ]
  },
  {
   "cell_type": "markdown",
   "metadata": {},
   "source": [
    "### Create the Monte Carlo Simulation\n",
    "\n",
    "In this section, you’ll use the MCForecastTools library to create a Monte Carlo simulation for the member’s savings portfolio. To do this, complete the following steps:\n",
    "\n",
    "1. Make an API call via the Alpaca SDK to get 3 years of historical closing prices for a traditional 60/40 portfolio split: 60% stocks (SPY) and 40% bonds (AGG).\n",
    "\n",
    "2. Run a Monte Carlo simulation of 500 samples and 30 years for the 60/40 portfolio, and then plot the results.The following image shows the overlay line plot resulting from a simulation with these characteristics. However, because a random number generator is used to run each live Monte Carlo simulation, your image will differ slightly from this exact image:\n",
    "\n",
    "![A screenshot depicts the resulting plot.](Images/5-4-monte-carlo-line-plot.png)\n",
    "\n",
    "3. Plot the probability distribution of the Monte Carlo simulation. Plot the probability distribution of the Monte Carlo simulation. The following image shows the histogram plot resulting from a simulation with these characteristics. However, because a random number generator is used to run each live Monte Carlo simulation, your image will differ slightly from this exact image:\n",
    "\n",
    "![A screenshot depicts the histogram plot.](Images/5-4-monte-carlo-histogram.png)\n",
    "\n",
    "4. Generate the summary statistics for the Monte Carlo simulation.\n",
    "\n"
   ]
  },
  {
   "cell_type": "markdown",
   "metadata": {},
   "source": [
    "#### Step 1: Make an API call via the Alpaca SDK to get 3 years of historical closing prices for a traditional 60/40 portfolio split: 60% stocks (SPY) and 40% bonds (AGG)."
   ]
  },
  {
   "cell_type": "code",
   "execution_count": 76,
   "metadata": {},
   "outputs": [],
   "source": [
    "# Set start and end dates of 3 years back from your current date\n",
    "# Alternatively, you can use an end date of 2020-08-07 and work 3 years back from that date \n",
    "start_date = pd.Timestamp(\"2019-11-18\", tz=\"America/New_York\").isoformat()\n",
    "end_date = pd.Timestamp(\"2022-11-18\", tz=\"America/New_York\").isoformat()"
   ]
  },
  {
   "cell_type": "code",
   "execution_count": 78,
   "metadata": {},
   "outputs": [
    {
     "data": {
      "text/html": [
       "<div>\n",
       "<style scoped>\n",
       "    .dataframe tbody tr th:only-of-type {\n",
       "        vertical-align: middle;\n",
       "    }\n",
       "\n",
       "    .dataframe tbody tr th {\n",
       "        vertical-align: top;\n",
       "    }\n",
       "\n",
       "    .dataframe thead tr th {\n",
       "        text-align: left;\n",
       "    }\n",
       "\n",
       "    .dataframe thead tr:last-of-type th {\n",
       "        text-align: right;\n",
       "    }\n",
       "</style>\n",
       "<table border=\"1\" class=\"dataframe\">\n",
       "  <thead>\n",
       "    <tr>\n",
       "      <th></th>\n",
       "      <th colspan=\"7\" halign=\"left\">SPY</th>\n",
       "      <th colspan=\"7\" halign=\"left\">AGG</th>\n",
       "    </tr>\n",
       "    <tr>\n",
       "      <th></th>\n",
       "      <th>open</th>\n",
       "      <th>high</th>\n",
       "      <th>low</th>\n",
       "      <th>close</th>\n",
       "      <th>volume</th>\n",
       "      <th>trade_count</th>\n",
       "      <th>vwap</th>\n",
       "      <th>open</th>\n",
       "      <th>high</th>\n",
       "      <th>low</th>\n",
       "      <th>close</th>\n",
       "      <th>volume</th>\n",
       "      <th>trade_count</th>\n",
       "      <th>vwap</th>\n",
       "    </tr>\n",
       "    <tr>\n",
       "      <th>timestamp</th>\n",
       "      <th></th>\n",
       "      <th></th>\n",
       "      <th></th>\n",
       "      <th></th>\n",
       "      <th></th>\n",
       "      <th></th>\n",
       "      <th></th>\n",
       "      <th></th>\n",
       "      <th></th>\n",
       "      <th></th>\n",
       "      <th></th>\n",
       "      <th></th>\n",
       "      <th></th>\n",
       "      <th></th>\n",
       "    </tr>\n",
       "  </thead>\n",
       "  <tbody>\n",
       "    <tr>\n",
       "      <th>2022-11-14 05:00:00+00:00</th>\n",
       "      <td>396.66</td>\n",
       "      <td>400.1799</td>\n",
       "      <td>394.83</td>\n",
       "      <td>395.12</td>\n",
       "      <td>71676295</td>\n",
       "      <td>526259</td>\n",
       "      <td>397.620023</td>\n",
       "      <td>96.43</td>\n",
       "      <td>96.450</td>\n",
       "      <td>96.175</td>\n",
       "      <td>96.24</td>\n",
       "      <td>7456359</td>\n",
       "      <td>21388</td>\n",
       "      <td>96.289535</td>\n",
       "    </tr>\n",
       "    <tr>\n",
       "      <th>2022-11-15 05:00:00+00:00</th>\n",
       "      <td>401.15</td>\n",
       "      <td>402.3100</td>\n",
       "      <td>394.49</td>\n",
       "      <td>398.49</td>\n",
       "      <td>92409003</td>\n",
       "      <td>743707</td>\n",
       "      <td>398.793190</td>\n",
       "      <td>96.80</td>\n",
       "      <td>96.950</td>\n",
       "      <td>96.605</td>\n",
       "      <td>96.95</td>\n",
       "      <td>7941868</td>\n",
       "      <td>24637</td>\n",
       "      <td>96.833059</td>\n",
       "    </tr>\n",
       "    <tr>\n",
       "      <th>2022-11-16 05:00:00+00:00</th>\n",
       "      <td>396.78</td>\n",
       "      <td>397.7800</td>\n",
       "      <td>394.79</td>\n",
       "      <td>395.45</td>\n",
       "      <td>67912256</td>\n",
       "      <td>480807</td>\n",
       "      <td>396.093557</td>\n",
       "      <td>97.25</td>\n",
       "      <td>97.630</td>\n",
       "      <td>97.135</td>\n",
       "      <td>97.55</td>\n",
       "      <td>10979915</td>\n",
       "      <td>28659</td>\n",
       "      <td>97.397368</td>\n",
       "    </tr>\n",
       "    <tr>\n",
       "      <th>2022-11-17 05:00:00+00:00</th>\n",
       "      <td>390.46</td>\n",
       "      <td>394.9500</td>\n",
       "      <td>390.14</td>\n",
       "      <td>394.24</td>\n",
       "      <td>74165955</td>\n",
       "      <td>496852</td>\n",
       "      <td>392.809764</td>\n",
       "      <td>97.03</td>\n",
       "      <td>97.165</td>\n",
       "      <td>96.850</td>\n",
       "      <td>97.14</td>\n",
       "      <td>6858308</td>\n",
       "      <td>21862</td>\n",
       "      <td>97.041575</td>\n",
       "    </tr>\n",
       "    <tr>\n",
       "      <th>2022-11-18 05:00:00+00:00</th>\n",
       "      <td>397.74</td>\n",
       "      <td>397.8100</td>\n",
       "      <td>393.04</td>\n",
       "      <td>396.03</td>\n",
       "      <td>92449201</td>\n",
       "      <td>522023</td>\n",
       "      <td>395.406321</td>\n",
       "      <td>97.22</td>\n",
       "      <td>97.325</td>\n",
       "      <td>96.910</td>\n",
       "      <td>97.00</td>\n",
       "      <td>4710384</td>\n",
       "      <td>17080</td>\n",
       "      <td>97.045155</td>\n",
       "    </tr>\n",
       "  </tbody>\n",
       "</table>\n",
       "</div>"
      ],
      "text/plain": [
       "                              SPY                                      \\\n",
       "                             open      high     low   close    volume   \n",
       "timestamp                                                               \n",
       "2022-11-14 05:00:00+00:00  396.66  400.1799  394.83  395.12  71676295   \n",
       "2022-11-15 05:00:00+00:00  401.15  402.3100  394.49  398.49  92409003   \n",
       "2022-11-16 05:00:00+00:00  396.78  397.7800  394.79  395.45  67912256   \n",
       "2022-11-17 05:00:00+00:00  390.46  394.9500  390.14  394.24  74165955   \n",
       "2022-11-18 05:00:00+00:00  397.74  397.8100  393.04  396.03  92449201   \n",
       "\n",
       "                                                     AGG                  \\\n",
       "                          trade_count        vwap   open    high     low   \n",
       "timestamp                                                                  \n",
       "2022-11-14 05:00:00+00:00      526259  397.620023  96.43  96.450  96.175   \n",
       "2022-11-15 05:00:00+00:00      743707  398.793190  96.80  96.950  96.605   \n",
       "2022-11-16 05:00:00+00:00      480807  396.093557  97.25  97.630  97.135   \n",
       "2022-11-17 05:00:00+00:00      496852  392.809764  97.03  97.165  96.850   \n",
       "2022-11-18 05:00:00+00:00      522023  395.406321  97.22  97.325  96.910   \n",
       "\n",
       "                                                                   \n",
       "                           close    volume trade_count       vwap  \n",
       "timestamp                                                          \n",
       "2022-11-14 05:00:00+00:00  96.24   7456359       21388  96.289535  \n",
       "2022-11-15 05:00:00+00:00  96.95   7941868       24637  96.833059  \n",
       "2022-11-16 05:00:00+00:00  97.55  10979915       28659  97.397368  \n",
       "2022-11-17 05:00:00+00:00  97.14   6858308       21862  97.041575  \n",
       "2022-11-18 05:00:00+00:00  97.00   4710384       17080  97.045155  "
      ]
     },
     "execution_count": 78,
     "metadata": {},
     "output_type": "execute_result"
    }
   ],
   "source": [
    "# Use the Alpaca get_bars function to make the API call to get the 3 years worth of pricing data\n",
    "# The tickers and timeframe parameters should have been set in Part 1 of this activity \n",
    "# The start and end dates should be updated with the information set above\n",
    "# Remember to add the df property to the end of the call so the response is returned as a DataFrame\n",
    "prices_df = alpaca.get_bars(\n",
    "    tickers,\n",
    "    timeframe,\n",
    "    start=start_date,\n",
    "    end=end_date\n",
    ").df\n",
    "\n",
    "# Reorganize the DataFrame\n",
    "# Separate ticker data\n",
    "SPY = prices_df[prices_df['symbol']=='SPY'].drop('symbol', axis=1)\n",
    "AGG = prices_df[prices_df['symbol']=='AGG'].drop('symbol', axis=1)\n",
    "\n",
    "# Concatenate the ticker DataFrames\n",
    "prices_df = pd.concat([SPY,AGG],axis=1, keys=['SPY','AGG'])\n",
    "\n",
    "# Display both the first and last five rows of the DataFrame\n",
    "prices_df.head()\n",
    "prices_df.tail()\n"
   ]
  },
  {
   "cell_type": "markdown",
   "metadata": {},
   "source": [
    "#### Step 2: Run a Monte Carlo simulation of 500 samples and 30 years for the 60/40 portfolio, and then plot the results."
   ]
  },
  {
   "cell_type": "code",
   "execution_count": 79,
   "metadata": {},
   "outputs": [
    {
     "data": {
      "text/html": [
       "<div>\n",
       "<style scoped>\n",
       "    .dataframe tbody tr th:only-of-type {\n",
       "        vertical-align: middle;\n",
       "    }\n",
       "\n",
       "    .dataframe tbody tr th {\n",
       "        vertical-align: top;\n",
       "    }\n",
       "\n",
       "    .dataframe thead tr th {\n",
       "        text-align: left;\n",
       "    }\n",
       "\n",
       "    .dataframe thead tr:last-of-type th {\n",
       "        text-align: right;\n",
       "    }\n",
       "</style>\n",
       "<table border=\"1\" class=\"dataframe\">\n",
       "  <thead>\n",
       "    <tr>\n",
       "      <th></th>\n",
       "      <th colspan=\"8\" halign=\"left\">SPY</th>\n",
       "      <th colspan=\"8\" halign=\"left\">AGG</th>\n",
       "    </tr>\n",
       "    <tr>\n",
       "      <th></th>\n",
       "      <th>open</th>\n",
       "      <th>high</th>\n",
       "      <th>low</th>\n",
       "      <th>close</th>\n",
       "      <th>volume</th>\n",
       "      <th>trade_count</th>\n",
       "      <th>vwap</th>\n",
       "      <th>daily_return</th>\n",
       "      <th>open</th>\n",
       "      <th>high</th>\n",
       "      <th>low</th>\n",
       "      <th>close</th>\n",
       "      <th>volume</th>\n",
       "      <th>trade_count</th>\n",
       "      <th>vwap</th>\n",
       "      <th>daily_return</th>\n",
       "    </tr>\n",
       "    <tr>\n",
       "      <th>timestamp</th>\n",
       "      <th></th>\n",
       "      <th></th>\n",
       "      <th></th>\n",
       "      <th></th>\n",
       "      <th></th>\n",
       "      <th></th>\n",
       "      <th></th>\n",
       "      <th></th>\n",
       "      <th></th>\n",
       "      <th></th>\n",
       "      <th></th>\n",
       "      <th></th>\n",
       "      <th></th>\n",
       "      <th></th>\n",
       "      <th></th>\n",
       "      <th></th>\n",
       "    </tr>\n",
       "  </thead>\n",
       "  <tbody>\n",
       "    <tr>\n",
       "      <th>2019-11-18 05:00:00+00:00</th>\n",
       "      <td>311.53</td>\n",
       "      <td>312.28</td>\n",
       "      <td>311.03</td>\n",
       "      <td>311.98</td>\n",
       "      <td>50249492</td>\n",
       "      <td>203344</td>\n",
       "      <td>311.812773</td>\n",
       "      <td>NaN</td>\n",
       "      <td>112.56</td>\n",
       "      <td>112.6460</td>\n",
       "      <td>112.5200</td>\n",
       "      <td>112.62</td>\n",
       "      <td>6044518</td>\n",
       "      <td>13537</td>\n",
       "      <td>112.604019</td>\n",
       "      <td>NaN</td>\n",
       "    </tr>\n",
       "    <tr>\n",
       "      <th>2019-11-19 05:00:00+00:00</th>\n",
       "      <td>312.68</td>\n",
       "      <td>312.69</td>\n",
       "      <td>311.22</td>\n",
       "      <td>311.91</td>\n",
       "      <td>71272497</td>\n",
       "      <td>230880</td>\n",
       "      <td>312.009439</td>\n",
       "      <td>-0.000224</td>\n",
       "      <td>112.63</td>\n",
       "      <td>112.7600</td>\n",
       "      <td>112.6000</td>\n",
       "      <td>112.70</td>\n",
       "      <td>2656090</td>\n",
       "      <td>10232</td>\n",
       "      <td>112.700069</td>\n",
       "      <td>0.000710</td>\n",
       "    </tr>\n",
       "    <tr>\n",
       "      <th>2019-11-20 05:00:00+00:00</th>\n",
       "      <td>311.28</td>\n",
       "      <td>311.85</td>\n",
       "      <td>309.06</td>\n",
       "      <td>310.81</td>\n",
       "      <td>79719841</td>\n",
       "      <td>381793</td>\n",
       "      <td>310.657500</td>\n",
       "      <td>-0.003527</td>\n",
       "      <td>112.83</td>\n",
       "      <td>112.9800</td>\n",
       "      <td>112.8050</td>\n",
       "      <td>112.97</td>\n",
       "      <td>3474498</td>\n",
       "      <td>14795</td>\n",
       "      <td>112.903444</td>\n",
       "      <td>0.002396</td>\n",
       "    </tr>\n",
       "    <tr>\n",
       "      <th>2019-11-21 05:00:00+00:00</th>\n",
       "      <td>310.89</td>\n",
       "      <td>311.01</td>\n",
       "      <td>309.39</td>\n",
       "      <td>310.30</td>\n",
       "      <td>54689005</td>\n",
       "      <td>239122</td>\n",
       "      <td>310.314550</td>\n",
       "      <td>-0.001641</td>\n",
       "      <td>112.80</td>\n",
       "      <td>112.8859</td>\n",
       "      <td>112.7200</td>\n",
       "      <td>112.81</td>\n",
       "      <td>6522830</td>\n",
       "      <td>14450</td>\n",
       "      <td>112.797968</td>\n",
       "      <td>-0.001416</td>\n",
       "    </tr>\n",
       "    <tr>\n",
       "      <th>2019-11-22 05:00:00+00:00</th>\n",
       "      <td>311.09</td>\n",
       "      <td>311.24</td>\n",
       "      <td>309.85</td>\n",
       "      <td>311.02</td>\n",
       "      <td>44851102</td>\n",
       "      <td>184088</td>\n",
       "      <td>310.780328</td>\n",
       "      <td>0.002320</td>\n",
       "      <td>112.89</td>\n",
       "      <td>112.9000</td>\n",
       "      <td>112.7605</td>\n",
       "      <td>112.87</td>\n",
       "      <td>2509158</td>\n",
       "      <td>9837</td>\n",
       "      <td>112.853991</td>\n",
       "      <td>0.000532</td>\n",
       "    </tr>\n",
       "  </tbody>\n",
       "</table>\n",
       "</div>"
      ],
      "text/plain": [
       "                              SPY                                    \\\n",
       "                             open    high     low   close    volume   \n",
       "timestamp                                                             \n",
       "2019-11-18 05:00:00+00:00  311.53  312.28  311.03  311.98  50249492   \n",
       "2019-11-19 05:00:00+00:00  312.68  312.69  311.22  311.91  71272497   \n",
       "2019-11-20 05:00:00+00:00  311.28  311.85  309.06  310.81  79719841   \n",
       "2019-11-21 05:00:00+00:00  310.89  311.01  309.39  310.30  54689005   \n",
       "2019-11-22 05:00:00+00:00  311.09  311.24  309.85  311.02  44851102   \n",
       "\n",
       "                                                                   AGG  \\\n",
       "                          trade_count        vwap daily_return    open   \n",
       "timestamp                                                                \n",
       "2019-11-18 05:00:00+00:00      203344  311.812773          NaN  112.56   \n",
       "2019-11-19 05:00:00+00:00      230880  312.009439    -0.000224  112.63   \n",
       "2019-11-20 05:00:00+00:00      381793  310.657500    -0.003527  112.83   \n",
       "2019-11-21 05:00:00+00:00      239122  310.314550    -0.001641  112.80   \n",
       "2019-11-22 05:00:00+00:00      184088  310.780328     0.002320  112.89   \n",
       "\n",
       "                                                                            \\\n",
       "                               high       low   close   volume trade_count   \n",
       "timestamp                                                                    \n",
       "2019-11-18 05:00:00+00:00  112.6460  112.5200  112.62  6044518       13537   \n",
       "2019-11-19 05:00:00+00:00  112.7600  112.6000  112.70  2656090       10232   \n",
       "2019-11-20 05:00:00+00:00  112.9800  112.8050  112.97  3474498       14795   \n",
       "2019-11-21 05:00:00+00:00  112.8859  112.7200  112.81  6522830       14450   \n",
       "2019-11-22 05:00:00+00:00  112.9000  112.7605  112.87  2509158        9837   \n",
       "\n",
       "                                                    \n",
       "                                 vwap daily_return  \n",
       "timestamp                                           \n",
       "2019-11-18 05:00:00+00:00  112.604019          NaN  \n",
       "2019-11-19 05:00:00+00:00  112.700069     0.000710  \n",
       "2019-11-20 05:00:00+00:00  112.903444     0.002396  \n",
       "2019-11-21 05:00:00+00:00  112.797968    -0.001416  \n",
       "2019-11-22 05:00:00+00:00  112.853991     0.000532  "
      ]
     },
     "execution_count": 79,
     "metadata": {},
     "output_type": "execute_result"
    }
   ],
   "source": [
    "# Configure the Monte Carlo simulation to forecast 30 years cumulative returns\n",
    "# The weights should be split 40% to AGG and 60% to SPY.\n",
    "# Run 500 samples.\n",
    "MC_thirtyyear = MCSimulation(\n",
    "    portfolio_data = prices_df,\n",
    "    weights = [.60,.40],\n",
    "    num_simulation = 500,\n",
    "    num_trading_days = 252*30\n",
    ")\n",
    "\n",
    "# Review the simulation input data\n",
    "MC_thirtyyear.portfolio_data.head()\n"
   ]
  },
  {
   "cell_type": "code",
   "execution_count": 80,
   "metadata": {},
   "outputs": [
    {
     "name": "stdout",
     "output_type": "stream",
     "text": [
      "Running Monte Carlo simulation number 0.\n",
      "Running Monte Carlo simulation number 10.\n",
      "Running Monte Carlo simulation number 20.\n",
      "Running Monte Carlo simulation number 30.\n",
      "Running Monte Carlo simulation number 40.\n",
      "Running Monte Carlo simulation number 50.\n",
      "Running Monte Carlo simulation number 60.\n",
      "Running Monte Carlo simulation number 70.\n",
      "Running Monte Carlo simulation number 80.\n",
      "Running Monte Carlo simulation number 90.\n",
      "Running Monte Carlo simulation number 100.\n"
     ]
    },
    {
     "name": "stderr",
     "output_type": "stream",
     "text": [
      "/Users/hebercruzberber/Desktop/FinTech-Workspace/Challenge 5/Challage 5 Code/MCForecastTools.py:117: PerformanceWarning: DataFrame is highly fragmented.  This is usually the result of calling `frame.insert` many times, which has poor performance.  Consider joining all columns at once using pd.concat(axis=1) instead.  To get a de-fragmented frame, use `newframe = frame.copy()`\n",
      "  portfolio_cumulative_returns[n] = (1 + sim_df.fillna(0)).cumprod()\n"
     ]
    },
    {
     "name": "stdout",
     "output_type": "stream",
     "text": [
      "Running Monte Carlo simulation number 110.\n",
      "Running Monte Carlo simulation number 120.\n",
      "Running Monte Carlo simulation number 130.\n",
      "Running Monte Carlo simulation number 140.\n",
      "Running Monte Carlo simulation number 150.\n",
      "Running Monte Carlo simulation number 160.\n",
      "Running Monte Carlo simulation number 170.\n",
      "Running Monte Carlo simulation number 180.\n",
      "Running Monte Carlo simulation number 190.\n",
      "Running Monte Carlo simulation number 200.\n",
      "Running Monte Carlo simulation number 210.\n",
      "Running Monte Carlo simulation number 220.\n",
      "Running Monte Carlo simulation number 230.\n",
      "Running Monte Carlo simulation number 240.\n",
      "Running Monte Carlo simulation number 250.\n",
      "Running Monte Carlo simulation number 260.\n",
      "Running Monte Carlo simulation number 270.\n",
      "Running Monte Carlo simulation number 280.\n",
      "Running Monte Carlo simulation number 290.\n",
      "Running Monte Carlo simulation number 300.\n",
      "Running Monte Carlo simulation number 310.\n",
      "Running Monte Carlo simulation number 320.\n",
      "Running Monte Carlo simulation number 330.\n",
      "Running Monte Carlo simulation number 340.\n",
      "Running Monte Carlo simulation number 350.\n",
      "Running Monte Carlo simulation number 360.\n",
      "Running Monte Carlo simulation number 370.\n",
      "Running Monte Carlo simulation number 380.\n",
      "Running Monte Carlo simulation number 390.\n",
      "Running Monte Carlo simulation number 400.\n",
      "Running Monte Carlo simulation number 410.\n",
      "Running Monte Carlo simulation number 420.\n",
      "Running Monte Carlo simulation number 430.\n",
      "Running Monte Carlo simulation number 440.\n",
      "Running Monte Carlo simulation number 450.\n",
      "Running Monte Carlo simulation number 460.\n",
      "Running Monte Carlo simulation number 470.\n",
      "Running Monte Carlo simulation number 480.\n",
      "Running Monte Carlo simulation number 490.\n"
     ]
    },
    {
     "data": {
      "text/html": [
       "<div>\n",
       "<style scoped>\n",
       "    .dataframe tbody tr th:only-of-type {\n",
       "        vertical-align: middle;\n",
       "    }\n",
       "\n",
       "    .dataframe tbody tr th {\n",
       "        vertical-align: top;\n",
       "    }\n",
       "\n",
       "    .dataframe thead th {\n",
       "        text-align: right;\n",
       "    }\n",
       "</style>\n",
       "<table border=\"1\" class=\"dataframe\">\n",
       "  <thead>\n",
       "    <tr style=\"text-align: right;\">\n",
       "      <th></th>\n",
       "      <th>0</th>\n",
       "      <th>1</th>\n",
       "      <th>2</th>\n",
       "      <th>3</th>\n",
       "      <th>4</th>\n",
       "      <th>5</th>\n",
       "      <th>6</th>\n",
       "      <th>7</th>\n",
       "      <th>8</th>\n",
       "      <th>9</th>\n",
       "      <th>...</th>\n",
       "      <th>490</th>\n",
       "      <th>491</th>\n",
       "      <th>492</th>\n",
       "      <th>493</th>\n",
       "      <th>494</th>\n",
       "      <th>495</th>\n",
       "      <th>496</th>\n",
       "      <th>497</th>\n",
       "      <th>498</th>\n",
       "      <th>499</th>\n",
       "    </tr>\n",
       "  </thead>\n",
       "  <tbody>\n",
       "    <tr>\n",
       "      <th>0</th>\n",
       "      <td>1.000000</td>\n",
       "      <td>1.000000</td>\n",
       "      <td>1.000000</td>\n",
       "      <td>1.000000</td>\n",
       "      <td>1.000000</td>\n",
       "      <td>1.000000</td>\n",
       "      <td>1.000000</td>\n",
       "      <td>1.000000</td>\n",
       "      <td>1.000000</td>\n",
       "      <td>1.000000</td>\n",
       "      <td>...</td>\n",
       "      <td>1.000000</td>\n",
       "      <td>1.000000</td>\n",
       "      <td>1.000000</td>\n",
       "      <td>1.000000</td>\n",
       "      <td>1.000000</td>\n",
       "      <td>1.000000</td>\n",
       "      <td>1.000000</td>\n",
       "      <td>1.000000</td>\n",
       "      <td>1.000000</td>\n",
       "      <td>1.000000</td>\n",
       "    </tr>\n",
       "    <tr>\n",
       "      <th>1</th>\n",
       "      <td>0.998109</td>\n",
       "      <td>1.001799</td>\n",
       "      <td>1.003979</td>\n",
       "      <td>1.010912</td>\n",
       "      <td>1.017549</td>\n",
       "      <td>1.009334</td>\n",
       "      <td>0.979757</td>\n",
       "      <td>0.981772</td>\n",
       "      <td>1.003664</td>\n",
       "      <td>0.997539</td>\n",
       "      <td>...</td>\n",
       "      <td>1.003338</td>\n",
       "      <td>0.988518</td>\n",
       "      <td>0.984350</td>\n",
       "      <td>0.996332</td>\n",
       "      <td>1.006608</td>\n",
       "      <td>1.012418</td>\n",
       "      <td>1.023165</td>\n",
       "      <td>0.993976</td>\n",
       "      <td>1.000197</td>\n",
       "      <td>1.002595</td>\n",
       "    </tr>\n",
       "    <tr>\n",
       "      <th>2</th>\n",
       "      <td>0.997037</td>\n",
       "      <td>0.997530</td>\n",
       "      <td>1.030307</td>\n",
       "      <td>1.014081</td>\n",
       "      <td>1.017258</td>\n",
       "      <td>1.035051</td>\n",
       "      <td>0.985881</td>\n",
       "      <td>0.968494</td>\n",
       "      <td>0.990538</td>\n",
       "      <td>1.001976</td>\n",
       "      <td>...</td>\n",
       "      <td>0.996915</td>\n",
       "      <td>0.999594</td>\n",
       "      <td>0.985080</td>\n",
       "      <td>1.000669</td>\n",
       "      <td>1.000476</td>\n",
       "      <td>1.017036</td>\n",
       "      <td>1.012764</td>\n",
       "      <td>0.999046</td>\n",
       "      <td>0.993249</td>\n",
       "      <td>1.000558</td>\n",
       "    </tr>\n",
       "    <tr>\n",
       "      <th>3</th>\n",
       "      <td>1.006907</td>\n",
       "      <td>0.991531</td>\n",
       "      <td>1.030183</td>\n",
       "      <td>1.019446</td>\n",
       "      <td>1.018659</td>\n",
       "      <td>1.018400</td>\n",
       "      <td>0.973464</td>\n",
       "      <td>0.968836</td>\n",
       "      <td>0.987721</td>\n",
       "      <td>0.997956</td>\n",
       "      <td>...</td>\n",
       "      <td>1.017088</td>\n",
       "      <td>0.999574</td>\n",
       "      <td>0.976743</td>\n",
       "      <td>1.002063</td>\n",
       "      <td>1.009132</td>\n",
       "      <td>1.008869</td>\n",
       "      <td>1.010715</td>\n",
       "      <td>0.996822</td>\n",
       "      <td>0.994607</td>\n",
       "      <td>1.008915</td>\n",
       "    </tr>\n",
       "    <tr>\n",
       "      <th>4</th>\n",
       "      <td>1.019138</td>\n",
       "      <td>0.985087</td>\n",
       "      <td>1.031248</td>\n",
       "      <td>1.024065</td>\n",
       "      <td>1.028006</td>\n",
       "      <td>1.024053</td>\n",
       "      <td>0.976665</td>\n",
       "      <td>0.957474</td>\n",
       "      <td>0.990723</td>\n",
       "      <td>0.995408</td>\n",
       "      <td>...</td>\n",
       "      <td>1.002342</td>\n",
       "      <td>0.998821</td>\n",
       "      <td>0.980966</td>\n",
       "      <td>1.000387</td>\n",
       "      <td>1.018349</td>\n",
       "      <td>1.014395</td>\n",
       "      <td>1.015845</td>\n",
       "      <td>0.996522</td>\n",
       "      <td>1.009094</td>\n",
       "      <td>1.009188</td>\n",
       "    </tr>\n",
       "    <tr>\n",
       "      <th>...</th>\n",
       "      <td>...</td>\n",
       "      <td>...</td>\n",
       "      <td>...</td>\n",
       "      <td>...</td>\n",
       "      <td>...</td>\n",
       "      <td>...</td>\n",
       "      <td>...</td>\n",
       "      <td>...</td>\n",
       "      <td>...</td>\n",
       "      <td>...</td>\n",
       "      <td>...</td>\n",
       "      <td>...</td>\n",
       "      <td>...</td>\n",
       "      <td>...</td>\n",
       "      <td>...</td>\n",
       "      <td>...</td>\n",
       "      <td>...</td>\n",
       "      <td>...</td>\n",
       "      <td>...</td>\n",
       "      <td>...</td>\n",
       "      <td>...</td>\n",
       "    </tr>\n",
       "    <tr>\n",
       "      <th>7556</th>\n",
       "      <td>3.771513</td>\n",
       "      <td>4.786358</td>\n",
       "      <td>21.283238</td>\n",
       "      <td>2.458068</td>\n",
       "      <td>5.444961</td>\n",
       "      <td>1.146039</td>\n",
       "      <td>2.754495</td>\n",
       "      <td>7.009215</td>\n",
       "      <td>1.274992</td>\n",
       "      <td>3.241781</td>\n",
       "      <td>...</td>\n",
       "      <td>6.686193</td>\n",
       "      <td>4.474561</td>\n",
       "      <td>2.355603</td>\n",
       "      <td>1.324911</td>\n",
       "      <td>3.798954</td>\n",
       "      <td>1.276445</td>\n",
       "      <td>3.297342</td>\n",
       "      <td>6.498365</td>\n",
       "      <td>3.027516</td>\n",
       "      <td>2.364442</td>\n",
       "    </tr>\n",
       "    <tr>\n",
       "      <th>7557</th>\n",
       "      <td>3.772676</td>\n",
       "      <td>4.743926</td>\n",
       "      <td>21.291122</td>\n",
       "      <td>2.442748</td>\n",
       "      <td>5.409592</td>\n",
       "      <td>1.128427</td>\n",
       "      <td>2.752977</td>\n",
       "      <td>7.022042</td>\n",
       "      <td>1.265525</td>\n",
       "      <td>3.309134</td>\n",
       "      <td>...</td>\n",
       "      <td>6.635497</td>\n",
       "      <td>4.508840</td>\n",
       "      <td>2.341582</td>\n",
       "      <td>1.339660</td>\n",
       "      <td>3.742579</td>\n",
       "      <td>1.280425</td>\n",
       "      <td>3.326217</td>\n",
       "      <td>6.443662</td>\n",
       "      <td>2.988150</td>\n",
       "      <td>2.366147</td>\n",
       "    </tr>\n",
       "    <tr>\n",
       "      <th>7558</th>\n",
       "      <td>3.763390</td>\n",
       "      <td>4.797217</td>\n",
       "      <td>20.976772</td>\n",
       "      <td>2.428542</td>\n",
       "      <td>5.311137</td>\n",
       "      <td>1.139325</td>\n",
       "      <td>2.741201</td>\n",
       "      <td>6.980394</td>\n",
       "      <td>1.262811</td>\n",
       "      <td>3.318133</td>\n",
       "      <td>...</td>\n",
       "      <td>6.613702</td>\n",
       "      <td>4.531722</td>\n",
       "      <td>2.324395</td>\n",
       "      <td>1.340523</td>\n",
       "      <td>3.774676</td>\n",
       "      <td>1.270129</td>\n",
       "      <td>3.353631</td>\n",
       "      <td>6.461736</td>\n",
       "      <td>2.910192</td>\n",
       "      <td>2.350540</td>\n",
       "    </tr>\n",
       "    <tr>\n",
       "      <th>7559</th>\n",
       "      <td>3.739422</td>\n",
       "      <td>4.912059</td>\n",
       "      <td>21.039395</td>\n",
       "      <td>2.459580</td>\n",
       "      <td>5.290784</td>\n",
       "      <td>1.132722</td>\n",
       "      <td>2.702656</td>\n",
       "      <td>7.013458</td>\n",
       "      <td>1.268786</td>\n",
       "      <td>3.354297</td>\n",
       "      <td>...</td>\n",
       "      <td>6.608697</td>\n",
       "      <td>4.551485</td>\n",
       "      <td>2.332761</td>\n",
       "      <td>1.333726</td>\n",
       "      <td>3.744681</td>\n",
       "      <td>1.255947</td>\n",
       "      <td>3.360593</td>\n",
       "      <td>6.475398</td>\n",
       "      <td>2.917800</td>\n",
       "      <td>2.359404</td>\n",
       "    </tr>\n",
       "    <tr>\n",
       "      <th>7560</th>\n",
       "      <td>3.787272</td>\n",
       "      <td>4.981090</td>\n",
       "      <td>20.790895</td>\n",
       "      <td>2.490775</td>\n",
       "      <td>5.263856</td>\n",
       "      <td>1.116473</td>\n",
       "      <td>2.664802</td>\n",
       "      <td>6.960375</td>\n",
       "      <td>1.267384</td>\n",
       "      <td>3.347443</td>\n",
       "      <td>...</td>\n",
       "      <td>6.590359</td>\n",
       "      <td>4.653321</td>\n",
       "      <td>2.322565</td>\n",
       "      <td>1.320216</td>\n",
       "      <td>3.687458</td>\n",
       "      <td>1.232629</td>\n",
       "      <td>3.337385</td>\n",
       "      <td>6.524869</td>\n",
       "      <td>2.945814</td>\n",
       "      <td>2.363869</td>\n",
       "    </tr>\n",
       "  </tbody>\n",
       "</table>\n",
       "<p>7561 rows × 500 columns</p>\n",
       "</div>"
      ],
      "text/plain": [
       "           0         1          2         3         4         5         6    \\\n",
       "0     1.000000  1.000000   1.000000  1.000000  1.000000  1.000000  1.000000   \n",
       "1     0.998109  1.001799   1.003979  1.010912  1.017549  1.009334  0.979757   \n",
       "2     0.997037  0.997530   1.030307  1.014081  1.017258  1.035051  0.985881   \n",
       "3     1.006907  0.991531   1.030183  1.019446  1.018659  1.018400  0.973464   \n",
       "4     1.019138  0.985087   1.031248  1.024065  1.028006  1.024053  0.976665   \n",
       "...        ...       ...        ...       ...       ...       ...       ...   \n",
       "7556  3.771513  4.786358  21.283238  2.458068  5.444961  1.146039  2.754495   \n",
       "7557  3.772676  4.743926  21.291122  2.442748  5.409592  1.128427  2.752977   \n",
       "7558  3.763390  4.797217  20.976772  2.428542  5.311137  1.139325  2.741201   \n",
       "7559  3.739422  4.912059  21.039395  2.459580  5.290784  1.132722  2.702656   \n",
       "7560  3.787272  4.981090  20.790895  2.490775  5.263856  1.116473  2.664802   \n",
       "\n",
       "           7         8         9    ...       490       491       492  \\\n",
       "0     1.000000  1.000000  1.000000  ...  1.000000  1.000000  1.000000   \n",
       "1     0.981772  1.003664  0.997539  ...  1.003338  0.988518  0.984350   \n",
       "2     0.968494  0.990538  1.001976  ...  0.996915  0.999594  0.985080   \n",
       "3     0.968836  0.987721  0.997956  ...  1.017088  0.999574  0.976743   \n",
       "4     0.957474  0.990723  0.995408  ...  1.002342  0.998821  0.980966   \n",
       "...        ...       ...       ...  ...       ...       ...       ...   \n",
       "7556  7.009215  1.274992  3.241781  ...  6.686193  4.474561  2.355603   \n",
       "7557  7.022042  1.265525  3.309134  ...  6.635497  4.508840  2.341582   \n",
       "7558  6.980394  1.262811  3.318133  ...  6.613702  4.531722  2.324395   \n",
       "7559  7.013458  1.268786  3.354297  ...  6.608697  4.551485  2.332761   \n",
       "7560  6.960375  1.267384  3.347443  ...  6.590359  4.653321  2.322565   \n",
       "\n",
       "           493       494       495       496       497       498       499  \n",
       "0     1.000000  1.000000  1.000000  1.000000  1.000000  1.000000  1.000000  \n",
       "1     0.996332  1.006608  1.012418  1.023165  0.993976  1.000197  1.002595  \n",
       "2     1.000669  1.000476  1.017036  1.012764  0.999046  0.993249  1.000558  \n",
       "3     1.002063  1.009132  1.008869  1.010715  0.996822  0.994607  1.008915  \n",
       "4     1.000387  1.018349  1.014395  1.015845  0.996522  1.009094  1.009188  \n",
       "...        ...       ...       ...       ...       ...       ...       ...  \n",
       "7556  1.324911  3.798954  1.276445  3.297342  6.498365  3.027516  2.364442  \n",
       "7557  1.339660  3.742579  1.280425  3.326217  6.443662  2.988150  2.366147  \n",
       "7558  1.340523  3.774676  1.270129  3.353631  6.461736  2.910192  2.350540  \n",
       "7559  1.333726  3.744681  1.255947  3.360593  6.475398  2.917800  2.359404  \n",
       "7560  1.320216  3.687458  1.232629  3.337385  6.524869  2.945814  2.363869  \n",
       "\n",
       "[7561 rows x 500 columns]"
      ]
     },
     "execution_count": 80,
     "metadata": {},
     "output_type": "execute_result"
    }
   ],
   "source": [
    "# Run the Monte Carlo simulation to forecast 30 years cumulative returns\n",
    "MC_thirtyyear.calc_cumulative_return()\n"
   ]
  },
  {
   "cell_type": "code",
   "execution_count": 81,
   "metadata": {},
   "outputs": [
    {
     "data": {
      "image/png": "[encoded data removed]",
      "text/plain": [
       "<Figure size 432x288 with 1 Axes>"
      ]
     },
     "metadata": {
      "needs_background": "light"
     },
     "output_type": "display_data"
    }
   ],
   "source": [
    "# Visualize the 30-year Monte Carlo simulation by creating an\n",
    "# overlay line plot\n",
    "MC_sim_line_plot = MC_thirtyyear.plot_simulation()\n"
   ]
  },
  {
   "cell_type": "markdown",
   "metadata": {},
   "source": [
    "#### Step 3: Plot the probability distribution of the Monte Carlo simulation."
   ]
  },
  {
   "cell_type": "code",
   "execution_count": 83,
   "metadata": {},
   "outputs": [
    {
     "data": {
      "image/png": "[encoded data removed]",
      "text/plain": [
       "<Figure size 432x288 with 1 Axes>"
      ]
     },
     "metadata": {
      "needs_background": "light"
     },
     "output_type": "display_data"
    }
   ],
   "source": [
    "# Visualize the probability distribution of the 30-year Monte Carlo simulation \n",
    "# by plotting a histogram\n",
    "MC_sim_dist_plot = MC_thirtyyear.plot_distribution()\n",
    "\n"
   ]
  },
  {
   "cell_type": "markdown",
   "metadata": {},
   "source": [
    "#### Step 4: Generate the summary statistics for the Monte Carlo simulation."
   ]
  },
  {
   "cell_type": "code",
   "execution_count": 84,
   "metadata": {},
   "outputs": [
    {
     "name": "stdout",
     "output_type": "stream",
     "text": [
      "count           500.000000\n",
      "mean              4.117237\n",
      "std               3.851453\n",
      "min               0.300927\n",
      "25%               1.786368\n",
      "50%               2.947086\n",
      "75%               5.110591\n",
      "max              31.660005\n",
      "95% CI Lower      0.614457\n",
      "95% CI Upper     14.625890\n",
      "Name: 7560, dtype: float64\n"
     ]
    }
   ],
   "source": [
    "# Generate summary statistics from the 30-year Monte Carlo simulation results\n",
    "# Save the results as a variable\n",
    "MC_summary_statistics = MC_thirtyyear.summarize_cumulative_return()\n",
    "\n",
    "\n",
    "\n",
    "# Review the 30-year Monte Carlo summary statistics\n",
    "print(MC_summary_statistics)"
   ]
  },
  {
   "cell_type": "markdown",
   "metadata": {},
   "source": [
    "### Analyze the Retirement Portfolio Forecasts\n",
    "\n",
    "Using the current value of only the stock and bond portion of the member's portfolio and the summary statistics that you generated from the Monte Carlo simulation, answer the following question in your Jupyter notebook:\n",
    "\n",
    "-  What are the lower and upper bounds for the expected value of the portfolio with a 95% confidence interval?\n"
   ]
  },
  {
   "cell_type": "code",
   "execution_count": 85,
   "metadata": {},
   "outputs": [
    {
     "name": "stdout",
     "output_type": "stream",
     "text": [
      "The current value of the stock and bond porfolio is $62963.30\n"
     ]
    }
   ],
   "source": [
    "# Print the current balance of the stock and bond portion of the members portfolio\n",
    "print(f\"The current value of the stock and bond porfolio is ${total_stocks_bonds:0.2f}\")\n"
   ]
  },
  {
   "cell_type": "code",
   "execution_count": 86,
   "metadata": {},
   "outputs": [
    {
     "name": "stdout",
     "output_type": "stream",
     "text": [
      "There is a 95% chance that an current balance of the stock and bond portfolio over the next 30 years will end within in the range of $ 38688.26 and $ 920894.31.\n"
     ]
    }
   ],
   "source": [
    "# Use the lower and upper `95%` confidence intervals to calculate the range of the possible outcomes for the current stock/bond portfolio\n",
    "ci_lower_thirty_cumulative_return = MC_summary_statistics[8] * total_stocks_bonds\n",
    "ci_upper_thirty_cumulative_return = MC_summary_statistics[9] * total_stocks_bonds\n",
    "\n",
    "\n",
    "# Print the result of your calculations\n",
    "print(f\"There is a 95% chance that an current balance of the stock and bond portfolio\"\n",
    "    f\" over the next 30 years will end within in the range of\"\n",
    "    f\" ${ci_lower_thirty_cumulative_return: .2f} and ${ci_upper_thirty_cumulative_return: .2f}.\")\n",
    "\n"
   ]
  },
  {
   "cell_type": "markdown",
   "metadata": {},
   "source": [
    "### Forecast Cumulative Returns in 10 Years\n",
    "\n",
    "The CTO of the credit union is impressed with your work on these planning tools but wonders if 30 years is a long time to wait until retirement. So, your next task is to adjust the retirement portfolio and run a new Monte Carlo simulation to find out if the changes will allow members to retire earlier.\n",
    "\n",
    "For this new Monte Carlo simulation, do the following: \n",
    "\n",
    "- Forecast the cumulative returns for 10 years from now. Because of the shortened investment horizon (30 years to 10 years), the portfolio needs to invest more heavily in the riskier asset&mdash;that is, stock&mdash;to help accumulate wealth for retirement. \n",
    "\n",
    "- Adjust the weights of the retirement portfolio so that the composition for the Monte Carlo simulation consists of 20% bonds and 80% stocks. \n",
    "\n",
    "- Run the simulation over 500 samples, and use the same data that the API call to Alpaca generated.\n",
    "\n",
    "- Based on the new Monte Carlo simulation, answer the following questions in your Jupyter notebook:\n",
    "\n",
    "    - Using the current value of only the stock and bond portion of the member's portfolio and the summary statistics that you generated from the new Monte Carlo simulation, what are the lower and upper bounds for the expected value of the portfolio (with the new weights) with a 95% confidence interval?\n",
    "\n",
    "    - Will weighting the portfolio more heavily toward stocks allow the credit union members to retire after only 10 years?\n"
   ]
  },
  {
   "cell_type": "code",
   "execution_count": 87,
   "metadata": {},
   "outputs": [
    {
     "data": {
      "text/html": [
       "<div>\n",
       "<style scoped>\n",
       "    .dataframe tbody tr th:only-of-type {\n",
       "        vertical-align: middle;\n",
       "    }\n",
       "\n",
       "    .dataframe tbody tr th {\n",
       "        vertical-align: top;\n",
       "    }\n",
       "\n",
       "    .dataframe thead tr th {\n",
       "        text-align: left;\n",
       "    }\n",
       "\n",
       "    .dataframe thead tr:last-of-type th {\n",
       "        text-align: right;\n",
       "    }\n",
       "</style>\n",
       "<table border=\"1\" class=\"dataframe\">\n",
       "  <thead>\n",
       "    <tr>\n",
       "      <th></th>\n",
       "      <th colspan=\"8\" halign=\"left\">SPY</th>\n",
       "      <th colspan=\"8\" halign=\"left\">AGG</th>\n",
       "    </tr>\n",
       "    <tr>\n",
       "      <th></th>\n",
       "      <th>open</th>\n",
       "      <th>high</th>\n",
       "      <th>low</th>\n",
       "      <th>close</th>\n",
       "      <th>volume</th>\n",
       "      <th>trade_count</th>\n",
       "      <th>vwap</th>\n",
       "      <th>daily_return</th>\n",
       "      <th>open</th>\n",
       "      <th>high</th>\n",
       "      <th>low</th>\n",
       "      <th>close</th>\n",
       "      <th>volume</th>\n",
       "      <th>trade_count</th>\n",
       "      <th>vwap</th>\n",
       "      <th>daily_return</th>\n",
       "    </tr>\n",
       "    <tr>\n",
       "      <th>timestamp</th>\n",
       "      <th></th>\n",
       "      <th></th>\n",
       "      <th></th>\n",
       "      <th></th>\n",
       "      <th></th>\n",
       "      <th></th>\n",
       "      <th></th>\n",
       "      <th></th>\n",
       "      <th></th>\n",
       "      <th></th>\n",
       "      <th></th>\n",
       "      <th></th>\n",
       "      <th></th>\n",
       "      <th></th>\n",
       "      <th></th>\n",
       "      <th></th>\n",
       "    </tr>\n",
       "  </thead>\n",
       "  <tbody>\n",
       "    <tr>\n",
       "      <th>2019-11-18 05:00:00+00:00</th>\n",
       "      <td>311.53</td>\n",
       "      <td>312.28</td>\n",
       "      <td>311.03</td>\n",
       "      <td>311.98</td>\n",
       "      <td>50249492</td>\n",
       "      <td>203344</td>\n",
       "      <td>311.812773</td>\n",
       "      <td>NaN</td>\n",
       "      <td>112.56</td>\n",
       "      <td>112.6460</td>\n",
       "      <td>112.5200</td>\n",
       "      <td>112.62</td>\n",
       "      <td>6044518</td>\n",
       "      <td>13537</td>\n",
       "      <td>112.604019</td>\n",
       "      <td>NaN</td>\n",
       "    </tr>\n",
       "    <tr>\n",
       "      <th>2019-11-19 05:00:00+00:00</th>\n",
       "      <td>312.68</td>\n",
       "      <td>312.69</td>\n",
       "      <td>311.22</td>\n",
       "      <td>311.91</td>\n",
       "      <td>71272497</td>\n",
       "      <td>230880</td>\n",
       "      <td>312.009439</td>\n",
       "      <td>-0.000224</td>\n",
       "      <td>112.63</td>\n",
       "      <td>112.7600</td>\n",
       "      <td>112.6000</td>\n",
       "      <td>112.70</td>\n",
       "      <td>2656090</td>\n",
       "      <td>10232</td>\n",
       "      <td>112.700069</td>\n",
       "      <td>0.000710</td>\n",
       "    </tr>\n",
       "    <tr>\n",
       "      <th>2019-11-20 05:00:00+00:00</th>\n",
       "      <td>311.28</td>\n",
       "      <td>311.85</td>\n",
       "      <td>309.06</td>\n",
       "      <td>310.81</td>\n",
       "      <td>79719841</td>\n",
       "      <td>381793</td>\n",
       "      <td>310.657500</td>\n",
       "      <td>-0.003527</td>\n",
       "      <td>112.83</td>\n",
       "      <td>112.9800</td>\n",
       "      <td>112.8050</td>\n",
       "      <td>112.97</td>\n",
       "      <td>3474498</td>\n",
       "      <td>14795</td>\n",
       "      <td>112.903444</td>\n",
       "      <td>0.002396</td>\n",
       "    </tr>\n",
       "    <tr>\n",
       "      <th>2019-11-21 05:00:00+00:00</th>\n",
       "      <td>310.89</td>\n",
       "      <td>311.01</td>\n",
       "      <td>309.39</td>\n",
       "      <td>310.30</td>\n",
       "      <td>54689005</td>\n",
       "      <td>239122</td>\n",
       "      <td>310.314550</td>\n",
       "      <td>-0.001641</td>\n",
       "      <td>112.80</td>\n",
       "      <td>112.8859</td>\n",
       "      <td>112.7200</td>\n",
       "      <td>112.81</td>\n",
       "      <td>6522830</td>\n",
       "      <td>14450</td>\n",
       "      <td>112.797968</td>\n",
       "      <td>-0.001416</td>\n",
       "    </tr>\n",
       "    <tr>\n",
       "      <th>2019-11-22 05:00:00+00:00</th>\n",
       "      <td>311.09</td>\n",
       "      <td>311.24</td>\n",
       "      <td>309.85</td>\n",
       "      <td>311.02</td>\n",
       "      <td>44851102</td>\n",
       "      <td>184088</td>\n",
       "      <td>310.780328</td>\n",
       "      <td>0.002320</td>\n",
       "      <td>112.89</td>\n",
       "      <td>112.9000</td>\n",
       "      <td>112.7605</td>\n",
       "      <td>112.87</td>\n",
       "      <td>2509158</td>\n",
       "      <td>9837</td>\n",
       "      <td>112.853991</td>\n",
       "      <td>0.000532</td>\n",
       "    </tr>\n",
       "  </tbody>\n",
       "</table>\n",
       "</div>"
      ],
      "text/plain": [
       "                              SPY                                    \\\n",
       "                             open    high     low   close    volume   \n",
       "timestamp                                                             \n",
       "2019-11-18 05:00:00+00:00  311.53  312.28  311.03  311.98  50249492   \n",
       "2019-11-19 05:00:00+00:00  312.68  312.69  311.22  311.91  71272497   \n",
       "2019-11-20 05:00:00+00:00  311.28  311.85  309.06  310.81  79719841   \n",
       "2019-11-21 05:00:00+00:00  310.89  311.01  309.39  310.30  54689005   \n",
       "2019-11-22 05:00:00+00:00  311.09  311.24  309.85  311.02  44851102   \n",
       "\n",
       "                                                                   AGG  \\\n",
       "                          trade_count        vwap daily_return    open   \n",
       "timestamp                                                                \n",
       "2019-11-18 05:00:00+00:00      203344  311.812773          NaN  112.56   \n",
       "2019-11-19 05:00:00+00:00      230880  312.009439    -0.000224  112.63   \n",
       "2019-11-20 05:00:00+00:00      381793  310.657500    -0.003527  112.83   \n",
       "2019-11-21 05:00:00+00:00      239122  310.314550    -0.001641  112.80   \n",
       "2019-11-22 05:00:00+00:00      184088  310.780328     0.002320  112.89   \n",
       "\n",
       "                                                                            \\\n",
       "                               high       low   close   volume trade_count   \n",
       "timestamp                                                                    \n",
       "2019-11-18 05:00:00+00:00  112.6460  112.5200  112.62  6044518       13537   \n",
       "2019-11-19 05:00:00+00:00  112.7600  112.6000  112.70  2656090       10232   \n",
       "2019-11-20 05:00:00+00:00  112.9800  112.8050  112.97  3474498       14795   \n",
       "2019-11-21 05:00:00+00:00  112.8859  112.7200  112.81  6522830       14450   \n",
       "2019-11-22 05:00:00+00:00  112.9000  112.7605  112.87  2509158        9837   \n",
       "\n",
       "                                                    \n",
       "                                 vwap daily_return  \n",
       "timestamp                                           \n",
       "2019-11-18 05:00:00+00:00  112.604019          NaN  \n",
       "2019-11-19 05:00:00+00:00  112.700069     0.000710  \n",
       "2019-11-20 05:00:00+00:00  112.903444     0.002396  \n",
       "2019-11-21 05:00:00+00:00  112.797968    -0.001416  \n",
       "2019-11-22 05:00:00+00:00  112.853991     0.000532  "
      ]
     },
     "execution_count": 87,
     "metadata": {},
     "output_type": "execute_result"
    }
   ],
   "source": [
    "# Configure a Monte Carlo simulation to forecast 10 years cumulative returns\n",
    "# The weights should be split 20% to AGG and 80% to SPY.\n",
    "# Run 500 samples.\n",
    "MC_tenyear = MCSimulation(\n",
    "    portfolio_data = prices_df,\n",
    "    weights = [.20,.80],\n",
    "    num_simulation = 500,\n",
    "    num_trading_days = 252*10\n",
    ")\n",
    "\n",
    "# Review the simulation input data\n",
    "MC_tenyear.portfolio_data.head()\n"
   ]
  },
  {
   "cell_type": "code",
   "execution_count": 88,
   "metadata": {},
   "outputs": [
    {
     "name": "stdout",
     "output_type": "stream",
     "text": [
      "Running Monte Carlo simulation number 0.\n",
      "Running Monte Carlo simulation number 10.\n",
      "Running Monte Carlo simulation number 20.\n",
      "Running Monte Carlo simulation number 30.\n",
      "Running Monte Carlo simulation number 40.\n",
      "Running Monte Carlo simulation number 50.\n",
      "Running Monte Carlo simulation number 60.\n",
      "Running Monte Carlo simulation number 70.\n",
      "Running Monte Carlo simulation number 80.\n",
      "Running Monte Carlo simulation number 90.\n",
      "Running Monte Carlo simulation number 100.\n"
     ]
    },
    {
     "name": "stderr",
     "output_type": "stream",
     "text": [
      "/Users/hebercruzberber/Desktop/FinTech-Workspace/Challenge 5/Challage 5 Code/MCForecastTools.py:117: PerformanceWarning: DataFrame is highly fragmented.  This is usually the result of calling `frame.insert` many times, which has poor performance.  Consider joining all columns at once using pd.concat(axis=1) instead.  To get a de-fragmented frame, use `newframe = frame.copy()`\n",
      "  portfolio_cumulative_returns[n] = (1 + sim_df.fillna(0)).cumprod()\n"
     ]
    },
    {
     "name": "stdout",
     "output_type": "stream",
     "text": [
      "Running Monte Carlo simulation number 110.\n",
      "Running Monte Carlo simulation number 120.\n",
      "Running Monte Carlo simulation number 130.\n",
      "Running Monte Carlo simulation number 140.\n",
      "Running Monte Carlo simulation number 150.\n",
      "Running Monte Carlo simulation number 160.\n",
      "Running Monte Carlo simulation number 170.\n",
      "Running Monte Carlo simulation number 180.\n",
      "Running Monte Carlo simulation number 190.\n",
      "Running Monte Carlo simulation number 200.\n",
      "Running Monte Carlo simulation number 210.\n",
      "Running Monte Carlo simulation number 220.\n",
      "Running Monte Carlo simulation number 230.\n",
      "Running Monte Carlo simulation number 240.\n",
      "Running Monte Carlo simulation number 250.\n",
      "Running Monte Carlo simulation number 260.\n",
      "Running Monte Carlo simulation number 270.\n",
      "Running Monte Carlo simulation number 280.\n",
      "Running Monte Carlo simulation number 290.\n",
      "Running Monte Carlo simulation number 300.\n",
      "Running Monte Carlo simulation number 310.\n",
      "Running Monte Carlo simulation number 320.\n",
      "Running Monte Carlo simulation number 330.\n",
      "Running Monte Carlo simulation number 340.\n",
      "Running Monte Carlo simulation number 350.\n",
      "Running Monte Carlo simulation number 360.\n",
      "Running Monte Carlo simulation number 370.\n",
      "Running Monte Carlo simulation number 380.\n",
      "Running Monte Carlo simulation number 390.\n",
      "Running Monte Carlo simulation number 400.\n",
      "Running Monte Carlo simulation number 410.\n",
      "Running Monte Carlo simulation number 420.\n",
      "Running Monte Carlo simulation number 430.\n",
      "Running Monte Carlo simulation number 440.\n",
      "Running Monte Carlo simulation number 450.\n",
      "Running Monte Carlo simulation number 460.\n",
      "Running Monte Carlo simulation number 470.\n",
      "Running Monte Carlo simulation number 480.\n",
      "Running Monte Carlo simulation number 490.\n"
     ]
    },
    {
     "data": {
      "text/html": [
       "<div>\n",
       "<style scoped>\n",
       "    .dataframe tbody tr th:only-of-type {\n",
       "        vertical-align: middle;\n",
       "    }\n",
       "\n",
       "    .dataframe tbody tr th {\n",
       "        vertical-align: top;\n",
       "    }\n",
       "\n",
       "    .dataframe thead th {\n",
       "        text-align: right;\n",
       "    }\n",
       "</style>\n",
       "<table border=\"1\" class=\"dataframe\">\n",
       "  <thead>\n",
       "    <tr style=\"text-align: right;\">\n",
       "      <th></th>\n",
       "      <th>0</th>\n",
       "      <th>1</th>\n",
       "      <th>2</th>\n",
       "      <th>3</th>\n",
       "      <th>4</th>\n",
       "      <th>5</th>\n",
       "      <th>6</th>\n",
       "      <th>7</th>\n",
       "      <th>8</th>\n",
       "      <th>9</th>\n",
       "      <th>...</th>\n",
       "      <th>490</th>\n",
       "      <th>491</th>\n",
       "      <th>492</th>\n",
       "      <th>493</th>\n",
       "      <th>494</th>\n",
       "      <th>495</th>\n",
       "      <th>496</th>\n",
       "      <th>497</th>\n",
       "      <th>498</th>\n",
       "      <th>499</th>\n",
       "    </tr>\n",
       "  </thead>\n",
       "  <tbody>\n",
       "    <tr>\n",
       "      <th>0</th>\n",
       "      <td>1.000000</td>\n",
       "      <td>1.000000</td>\n",
       "      <td>1.000000</td>\n",
       "      <td>1.000000</td>\n",
       "      <td>1.000000</td>\n",
       "      <td>1.000000</td>\n",
       "      <td>1.000000</td>\n",
       "      <td>1.000000</td>\n",
       "      <td>1.000000</td>\n",
       "      <td>1.000000</td>\n",
       "      <td>...</td>\n",
       "      <td>1.000000</td>\n",
       "      <td>1.000000</td>\n",
       "      <td>1.000000</td>\n",
       "      <td>1.000000</td>\n",
       "      <td>1.000000</td>\n",
       "      <td>1.000000</td>\n",
       "      <td>1.000000</td>\n",
       "      <td>1.000000</td>\n",
       "      <td>1.000000</td>\n",
       "      <td>1.000000</td>\n",
       "    </tr>\n",
       "    <tr>\n",
       "      <th>1</th>\n",
       "      <td>1.002875</td>\n",
       "      <td>0.996907</td>\n",
       "      <td>0.999037</td>\n",
       "      <td>0.995027</td>\n",
       "      <td>1.004096</td>\n",
       "      <td>1.003384</td>\n",
       "      <td>1.001461</td>\n",
       "      <td>1.005427</td>\n",
       "      <td>1.005252</td>\n",
       "      <td>1.004695</td>\n",
       "      <td>...</td>\n",
       "      <td>1.007467</td>\n",
       "      <td>1.007912</td>\n",
       "      <td>0.991163</td>\n",
       "      <td>1.001366</td>\n",
       "      <td>0.991173</td>\n",
       "      <td>1.000019</td>\n",
       "      <td>0.999930</td>\n",
       "      <td>1.001081</td>\n",
       "      <td>0.993881</td>\n",
       "      <td>1.001102</td>\n",
       "    </tr>\n",
       "    <tr>\n",
       "      <th>2</th>\n",
       "      <td>1.003077</td>\n",
       "      <td>0.998675</td>\n",
       "      <td>1.011850</td>\n",
       "      <td>0.995134</td>\n",
       "      <td>1.000996</td>\n",
       "      <td>1.001875</td>\n",
       "      <td>0.997321</td>\n",
       "      <td>1.000891</td>\n",
       "      <td>1.012009</td>\n",
       "      <td>0.999184</td>\n",
       "      <td>...</td>\n",
       "      <td>1.004862</td>\n",
       "      <td>1.011092</td>\n",
       "      <td>0.993958</td>\n",
       "      <td>1.000245</td>\n",
       "      <td>0.989959</td>\n",
       "      <td>0.998106</td>\n",
       "      <td>1.000802</td>\n",
       "      <td>0.996330</td>\n",
       "      <td>0.997034</td>\n",
       "      <td>1.001749</td>\n",
       "    </tr>\n",
       "    <tr>\n",
       "      <th>3</th>\n",
       "      <td>1.005201</td>\n",
       "      <td>1.006918</td>\n",
       "      <td>1.011560</td>\n",
       "      <td>0.994270</td>\n",
       "      <td>1.001519</td>\n",
       "      <td>1.010168</td>\n",
       "      <td>0.995588</td>\n",
       "      <td>0.999769</td>\n",
       "      <td>1.018977</td>\n",
       "      <td>1.001812</td>\n",
       "      <td>...</td>\n",
       "      <td>1.007701</td>\n",
       "      <td>1.015161</td>\n",
       "      <td>0.991542</td>\n",
       "      <td>1.001867</td>\n",
       "      <td>0.996232</td>\n",
       "      <td>0.994961</td>\n",
       "      <td>0.998306</td>\n",
       "      <td>0.998219</td>\n",
       "      <td>0.994419</td>\n",
       "      <td>1.003696</td>\n",
       "    </tr>\n",
       "    <tr>\n",
       "      <th>4</th>\n",
       "      <td>1.000754</td>\n",
       "      <td>1.003694</td>\n",
       "      <td>1.008880</td>\n",
       "      <td>0.999535</td>\n",
       "      <td>1.002123</td>\n",
       "      <td>1.006055</td>\n",
       "      <td>0.998160</td>\n",
       "      <td>0.992666</td>\n",
       "      <td>1.015597</td>\n",
       "      <td>0.995918</td>\n",
       "      <td>...</td>\n",
       "      <td>1.003391</td>\n",
       "      <td>1.010628</td>\n",
       "      <td>0.985308</td>\n",
       "      <td>0.997476</td>\n",
       "      <td>0.997608</td>\n",
       "      <td>0.991471</td>\n",
       "      <td>1.007776</td>\n",
       "      <td>0.992264</td>\n",
       "      <td>0.990525</td>\n",
       "      <td>1.003469</td>\n",
       "    </tr>\n",
       "    <tr>\n",
       "      <th>...</th>\n",
       "      <td>...</td>\n",
       "      <td>...</td>\n",
       "      <td>...</td>\n",
       "      <td>...</td>\n",
       "      <td>...</td>\n",
       "      <td>...</td>\n",
       "      <td>...</td>\n",
       "      <td>...</td>\n",
       "      <td>...</td>\n",
       "      <td>...</td>\n",
       "      <td>...</td>\n",
       "      <td>...</td>\n",
       "      <td>...</td>\n",
       "      <td>...</td>\n",
       "      <td>...</td>\n",
       "      <td>...</td>\n",
       "      <td>...</td>\n",
       "      <td>...</td>\n",
       "      <td>...</td>\n",
       "      <td>...</td>\n",
       "      <td>...</td>\n",
       "    </tr>\n",
       "    <tr>\n",
       "      <th>2516</th>\n",
       "      <td>0.836187</td>\n",
       "      <td>0.804305</td>\n",
       "      <td>0.945710</td>\n",
       "      <td>1.009513</td>\n",
       "      <td>0.564014</td>\n",
       "      <td>0.947964</td>\n",
       "      <td>0.498055</td>\n",
       "      <td>0.934229</td>\n",
       "      <td>0.598531</td>\n",
       "      <td>1.043710</td>\n",
       "      <td>...</td>\n",
       "      <td>0.939995</td>\n",
       "      <td>0.854723</td>\n",
       "      <td>0.881533</td>\n",
       "      <td>0.697246</td>\n",
       "      <td>0.875981</td>\n",
       "      <td>0.831824</td>\n",
       "      <td>0.880467</td>\n",
       "      <td>0.807016</td>\n",
       "      <td>1.040944</td>\n",
       "      <td>0.688203</td>\n",
       "    </tr>\n",
       "    <tr>\n",
       "      <th>2517</th>\n",
       "      <td>0.829742</td>\n",
       "      <td>0.802267</td>\n",
       "      <td>0.948262</td>\n",
       "      <td>1.013829</td>\n",
       "      <td>0.563930</td>\n",
       "      <td>0.945599</td>\n",
       "      <td>0.499530</td>\n",
       "      <td>0.937736</td>\n",
       "      <td>0.595853</td>\n",
       "      <td>1.042798</td>\n",
       "      <td>...</td>\n",
       "      <td>0.939177</td>\n",
       "      <td>0.854402</td>\n",
       "      <td>0.879306</td>\n",
       "      <td>0.701413</td>\n",
       "      <td>0.873537</td>\n",
       "      <td>0.828556</td>\n",
       "      <td>0.884867</td>\n",
       "      <td>0.807812</td>\n",
       "      <td>1.036846</td>\n",
       "      <td>0.690409</td>\n",
       "    </tr>\n",
       "    <tr>\n",
       "      <th>2518</th>\n",
       "      <td>0.831918</td>\n",
       "      <td>0.808128</td>\n",
       "      <td>0.956629</td>\n",
       "      <td>1.017472</td>\n",
       "      <td>0.567211</td>\n",
       "      <td>0.946300</td>\n",
       "      <td>0.497749</td>\n",
       "      <td>0.936505</td>\n",
       "      <td>0.595539</td>\n",
       "      <td>1.046336</td>\n",
       "      <td>...</td>\n",
       "      <td>0.935530</td>\n",
       "      <td>0.857151</td>\n",
       "      <td>0.873220</td>\n",
       "      <td>0.703469</td>\n",
       "      <td>0.870654</td>\n",
       "      <td>0.830622</td>\n",
       "      <td>0.890618</td>\n",
       "      <td>0.805252</td>\n",
       "      <td>1.039410</td>\n",
       "      <td>0.688149</td>\n",
       "    </tr>\n",
       "    <tr>\n",
       "      <th>2519</th>\n",
       "      <td>0.827044</td>\n",
       "      <td>0.804655</td>\n",
       "      <td>0.958130</td>\n",
       "      <td>1.015941</td>\n",
       "      <td>0.568310</td>\n",
       "      <td>0.944519</td>\n",
       "      <td>0.499559</td>\n",
       "      <td>0.933751</td>\n",
       "      <td>0.593086</td>\n",
       "      <td>1.047018</td>\n",
       "      <td>...</td>\n",
       "      <td>0.937078</td>\n",
       "      <td>0.860124</td>\n",
       "      <td>0.877349</td>\n",
       "      <td>0.702685</td>\n",
       "      <td>0.867948</td>\n",
       "      <td>0.833584</td>\n",
       "      <td>0.889761</td>\n",
       "      <td>0.800644</td>\n",
       "      <td>1.037932</td>\n",
       "      <td>0.690579</td>\n",
       "    </tr>\n",
       "    <tr>\n",
       "      <th>2520</th>\n",
       "      <td>0.830773</td>\n",
       "      <td>0.802076</td>\n",
       "      <td>0.956034</td>\n",
       "      <td>1.009552</td>\n",
       "      <td>0.570242</td>\n",
       "      <td>0.949044</td>\n",
       "      <td>0.500625</td>\n",
       "      <td>0.932541</td>\n",
       "      <td>0.591414</td>\n",
       "      <td>1.044566</td>\n",
       "      <td>...</td>\n",
       "      <td>0.936114</td>\n",
       "      <td>0.861611</td>\n",
       "      <td>0.874776</td>\n",
       "      <td>0.698492</td>\n",
       "      <td>0.862587</td>\n",
       "      <td>0.838716</td>\n",
       "      <td>0.886226</td>\n",
       "      <td>0.792555</td>\n",
       "      <td>1.035159</td>\n",
       "      <td>0.682106</td>\n",
       "    </tr>\n",
       "  </tbody>\n",
       "</table>\n",
       "<p>2521 rows × 500 columns</p>\n",
       "</div>"
      ],
      "text/plain": [
       "           0         1         2         3         4         5         6    \\\n",
       "0     1.000000  1.000000  1.000000  1.000000  1.000000  1.000000  1.000000   \n",
       "1     1.002875  0.996907  0.999037  0.995027  1.004096  1.003384  1.001461   \n",
       "2     1.003077  0.998675  1.011850  0.995134  1.000996  1.001875  0.997321   \n",
       "3     1.005201  1.006918  1.011560  0.994270  1.001519  1.010168  0.995588   \n",
       "4     1.000754  1.003694  1.008880  0.999535  1.002123  1.006055  0.998160   \n",
       "...        ...       ...       ...       ...       ...       ...       ...   \n",
       "2516  0.836187  0.804305  0.945710  1.009513  0.564014  0.947964  0.498055   \n",
       "2517  0.829742  0.802267  0.948262  1.013829  0.563930  0.945599  0.499530   \n",
       "2518  0.831918  0.808128  0.956629  1.017472  0.567211  0.946300  0.497749   \n",
       "2519  0.827044  0.804655  0.958130  1.015941  0.568310  0.944519  0.499559   \n",
       "2520  0.830773  0.802076  0.956034  1.009552  0.570242  0.949044  0.500625   \n",
       "\n",
       "           7         8         9    ...       490       491       492  \\\n",
       "0     1.000000  1.000000  1.000000  ...  1.000000  1.000000  1.000000   \n",
       "1     1.005427  1.005252  1.004695  ...  1.007467  1.007912  0.991163   \n",
       "2     1.000891  1.012009  0.999184  ...  1.004862  1.011092  0.993958   \n",
       "3     0.999769  1.018977  1.001812  ...  1.007701  1.015161  0.991542   \n",
       "4     0.992666  1.015597  0.995918  ...  1.003391  1.010628  0.985308   \n",
       "...        ...       ...       ...  ...       ...       ...       ...   \n",
       "2516  0.934229  0.598531  1.043710  ...  0.939995  0.854723  0.881533   \n",
       "2517  0.937736  0.595853  1.042798  ...  0.939177  0.854402  0.879306   \n",
       "2518  0.936505  0.595539  1.046336  ...  0.935530  0.857151  0.873220   \n",
       "2519  0.933751  0.593086  1.047018  ...  0.937078  0.860124  0.877349   \n",
       "2520  0.932541  0.591414  1.044566  ...  0.936114  0.861611  0.874776   \n",
       "\n",
       "           493       494       495       496       497       498       499  \n",
       "0     1.000000  1.000000  1.000000  1.000000  1.000000  1.000000  1.000000  \n",
       "1     1.001366  0.991173  1.000019  0.999930  1.001081  0.993881  1.001102  \n",
       "2     1.000245  0.989959  0.998106  1.000802  0.996330  0.997034  1.001749  \n",
       "3     1.001867  0.996232  0.994961  0.998306  0.998219  0.994419  1.003696  \n",
       "4     0.997476  0.997608  0.991471  1.007776  0.992264  0.990525  1.003469  \n",
       "...        ...       ...       ...       ...       ...       ...       ...  \n",
       "2516  0.697246  0.875981  0.831824  0.880467  0.807016  1.040944  0.688203  \n",
       "2517  0.701413  0.873537  0.828556  0.884867  0.807812  1.036846  0.690409  \n",
       "2518  0.703469  0.870654  0.830622  0.890618  0.805252  1.039410  0.688149  \n",
       "2519  0.702685  0.867948  0.833584  0.889761  0.800644  1.037932  0.690579  \n",
       "2520  0.698492  0.862587  0.838716  0.886226  0.792555  1.035159  0.682106  \n",
       "\n",
       "[2521 rows x 500 columns]"
      ]
     },
     "execution_count": 88,
     "metadata": {},
     "output_type": "execute_result"
    }
   ],
   "source": [
    "# Run the Monte Carlo simulation to forecast 10 years cumulative returns\n",
    "MC_tenyear.calc_cumulative_return()\n"
   ]
  },
  {
   "cell_type": "code",
   "execution_count": 89,
   "metadata": {},
   "outputs": [
    {
     "data": {
      "image/png": "[encoded data removed]",
      "text/plain": [
       "<Figure size 432x288 with 1 Axes>"
      ]
     },
     "metadata": {
      "needs_background": "light"
     },
     "output_type": "display_data"
    }
   ],
   "source": [
    "# Visualize the 10-year Monte Carlo simulation by creating an\n",
    "# overlay line plot\n",
    "MC_sim_line_plot = MC_tenyear.plot_simulation()\n"
   ]
  },
  {
   "cell_type": "code",
   "execution_count": 90,
   "metadata": {},
   "outputs": [
    {
     "data": {
      "image/png": "[encoded data removed]",
      "text/plain": [
       "<Figure size 432x288 with 1 Axes>"
      ]
     },
     "metadata": {
      "needs_background": "light"
     },
     "output_type": "display_data"
    }
   ],
   "source": [
    "# Visualize the probability distribution of the 10-year Monte Carlo simulation \n",
    "# by plotting a histogram\n",
    "MC_sim_dist_plot = MC_tenyear.plot_distribution()\n"
   ]
  },
  {
   "cell_type": "code",
   "execution_count": 91,
   "metadata": {},
   "outputs": [
    {
     "name": "stdout",
     "output_type": "stream",
     "text": [
      "count           500.000000\n",
      "mean              0.850135\n",
      "std               0.194041\n",
      "min               0.430593\n",
      "25%               0.716181\n",
      "50%               0.832020\n",
      "75%               0.950583\n",
      "max               1.592959\n",
      "95% CI Lower      0.540871\n",
      "95% CI Upper      1.323087\n",
      "Name: 2520, dtype: float64\n"
     ]
    }
   ],
   "source": [
    "# Generate summary statistics from the 10-year Monte Carlo simulation results\n",
    "# Save the results as a variable\n",
    "MC_summary_statistics = MC_tenyear.summarize_cumulative_return()\n",
    "\n",
    "\n",
    "# Review the 10-year Monte Carlo summary statistics\n",
    "print(MC_summary_statistics)"
   ]
  },
  {
   "cell_type": "markdown",
   "metadata": {},
   "source": [
    "### Answer the following questions:"
   ]
  },
  {
   "cell_type": "markdown",
   "metadata": {},
   "source": [
    "#### Question: Using the current value of only the stock and bond portion of the member's portfolio and the summary statistics that you generated from the new Monte Carlo simulation, what are the lower and upper bounds for the expected value of the portfolio (with the new weights) with a 95% confidence interval?"
   ]
  },
  {
   "cell_type": "code",
   "execution_count": 92,
   "metadata": {},
   "outputs": [
    {
     "name": "stdout",
     "output_type": "stream",
     "text": [
      "The current value of the stock and bond porfolio is $62963.30\n"
     ]
    }
   ],
   "source": [
    "# Print the current balance of the stock and bond portion of the members portfolio\n",
    "print(f\"The current value of the stock and bond porfolio is ${total_stocks_bonds:0.2f}\")\n"
   ]
  },
  {
   "cell_type": "code",
   "execution_count": 94,
   "metadata": {},
   "outputs": [
    {
     "name": "stdout",
     "output_type": "stream",
     "text": [
      "There is a 95% chance that an current balance of the stock and bond portfolio over the next 10 years will end within in the range of $ 34054.99 and $ 83305.93.\n"
     ]
    }
   ],
   "source": [
    "# Use the lower and upper `95%` confidence intervals to calculate the range of the possible outcomes for the current stock/bond portfolio\n",
    "ci_lower_ten_cumulative_return = MC_summary_statistics[8] * total_stocks_bonds\n",
    "ci_upper_ten_cumulative_return = MC_summary_statistics[9] * total_stocks_bonds\n",
    "\n",
    "# Print the result of your calculations\n",
    "print(f\"There is a 95% chance that an current balance of the stock and bond portfolio\"\n",
    "    f\" over the next 10 years will end within in the range of\"\n",
    "    f\" ${ci_lower_ten_cumulative_return: .2f} and ${ci_upper_ten_cumulative_return: .2f}.\")\n"
   ]
  },
  {
   "cell_type": "markdown",
   "metadata": {},
   "source": [
    "#### Question: Will weighting the portfolio more heavily to stocks allow the credit union members to retire after only 10 years?"
   ]
  },
  {
   "cell_type": "raw",
   "metadata": {},
   "source": [
    "**Answer** No, the credit union members won't be able to retire after 10 years."
   ]
  },
  {
   "cell_type": "code",
   "execution_count": null,
   "metadata": {},
   "outputs": [],
   "source": []
  }
 ],
 "metadata": {
  "kernelspec": {
   "display_name": "Python (dev)",
   "language": "python",
   "name": "dev"
  },
  "language_info": {
   "codemirror_mode": {
    "name": "ipython",
    "version": 3
   },
   "file_extension": ".py",
   "mimetype": "text/x-python",
   "name": "python",
   "nbconvert_exporter": "python",
   "pygments_lexer": "ipython3",
   "version": "3.7.13"
  }
 },
 "nbformat": 4,
 "nbformat_minor": 4
}
